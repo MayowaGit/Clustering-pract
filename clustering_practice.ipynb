{
 "cells": [
  {
   "cell_type": "code",
   "execution_count": 13,
   "metadata": {
    "id": "NcpVse2hgOau"
   },
   "outputs": [],
   "source": [
    "import pandas as pd\n",
    "import numpy as np\n",
    "import seaborn as sns\n",
    "import matplotlib.pyplot as plt"
   ]
  },
  {
   "cell_type": "code",
   "execution_count": 14,
   "metadata": {
    "colab": {
     "base_uri": "https://localhost:8080/",
     "height": 73,
     "resources": {
      "http://localhost:8080/nbextensions/google.colab/files.js": {
       "data": "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",
       "headers": [
        [
         "content-type",
         "application/javascript"
        ]
       ],
       "ok": true,
       "status": 200,
       "status_text": ""
      }
     }
    },
    "id": "AxQS98jngsa5",
    "outputId": "42c6a5b0-ff6a-4fde-8a7d-d0d121cf5a0d",
    "scrolled": false
   },
   "outputs": [
    {
     "name": "stdout",
     "output_type": "stream",
     "text": [
      "       CUSTOMER    Age  Gender  Postcode           District  \\\n",
      "0             1  40-49  Female   AL9 7BN    Welwyn Hatfield   \n",
      "1             2  60-64    Male   AL7 1ZW    Welwyn Hatfield   \n",
      "2             3  50-59    Male   AB4 5JX      Aberdeenshire   \n",
      "3             4  50-59  Female   B24 0DL         Birmingham   \n",
      "4             5  60-64    Male   E17 5QP     Waltham Forest   \n",
      "...         ...    ...     ...       ...                ...   \n",
      "14778     16262  40-49    Male  AB23 8JT      Aberdeen City   \n",
      "14779     16263  21-25    Male  CV34 5JN            Warwick   \n",
      "14780     16264  40-49    Male   CM8 1FU          Braintree   \n",
      "14781     16266  50-59    Male   DD8 3JF              Angus   \n",
      "14782     16267  50-59    Male  EH12 7PG  City of Edinburgh   \n",
      "\n",
      "                 Constituency   latitude  longitude            Current_Status  \\\n",
      "0             Welwyn Hatfield  51.727429  -0.183648     Married with children   \n",
      "1             Welwyn Hatfield  51.804482  -0.195898     Married with children   \n",
      "2            Banff and Buchan  57.692200  -2.022295     Married with children   \n",
      "3       Birmingham, Erdington  52.526595  -1.822211  Married without children   \n",
      "4                 Walthamstow  51.593979  -0.040803     Married with children   \n",
      "...                       ...        ...        ...                       ...   \n",
      "14778                  Gordon  57.203497  -2.096799     Married with children   \n",
      "14779  Warwick and Leamington  52.297782  -1.588626     Single, never married   \n",
      "14780                  Witham  51.789173   0.624822       Living with partner   \n",
      "14781                   Angus  56.648815  -2.895498     Married with children   \n",
      "14782          Edinburgh West  55.934406  -3.286236     Married with children   \n",
      "\n",
      "      Total_Household_Income  \\\n",
      "0           50,000 to 74,999   \n",
      "1           35,000 to 49,999   \n",
      "2           75,000 to 99,999   \n",
      "3           35,000 to 49,999   \n",
      "4         100,000 to 149,999   \n",
      "...                      ...   \n",
      "14778     100,000 to 149,999   \n",
      "14779       Less than 20,000   \n",
      "14780     100,000 to 149,999   \n",
      "14781     100,000 to 149,999   \n",
      "14782       75,000 to 99,999   \n",
      "\n",
      "      How often you attend Entertaining events in a year?  \\\n",
      "0                                         4 Times a Year    \n",
      "1                                         3 Times a Year    \n",
      "2                                         3 Times a Year    \n",
      "3                                         1 Times a Year    \n",
      "4                                         3 Times a Year    \n",
      "...                                                  ...    \n",
      "14778                                     3 Times a Year    \n",
      "14779                                     4 Times a Year    \n",
      "14780                                     4 Times a Year    \n",
      "14781                                     3 Times a Year    \n",
      "14782                                     3 Times a Year    \n",
      "\n",
      "                        Social_Media  \\\n",
      "0                       Up to 1 hour   \n",
      "1                       Up to 1 hour   \n",
      "2      I don't spend any time at all   \n",
      "3                         Half a day   \n",
      "4                       Up to 1 hour   \n",
      "...                              ...   \n",
      "14778  I don't spend any time at all   \n",
      "14779                  Up to 2 hours   \n",
      "14780                   Up to 1 hour   \n",
      "14781  I don't spend any time at all   \n",
      "14782                   Up to 1 hour   \n",
      "\n",
      "      How many hours are you willing to travel to attend an event?  \\\n",
      "0                                                3 hours             \n",
      "1                                                5 hours             \n",
      "2                                                5 hours             \n",
      "3                                                 1 hour             \n",
      "4                                           6 hours plus             \n",
      "...                                                  ...             \n",
      "14778                                            4 hours             \n",
      "14779                                            3 hours             \n",
      "14780                                            3 hours             \n",
      "14781                                            4 hours             \n",
      "14782                                            5 hours             \n",
      "\n",
      "      Do you enjoy adrenaline-rush activities?  \\\n",
      "0                            Entirely disagree   \n",
      "1                            Somewhat disagree   \n",
      "2                            Somewhat disagree   \n",
      "3                               Entirely agree   \n",
      "4                              Mostly disagree   \n",
      "...                                        ...   \n",
      "14778                        Somewhat disagree   \n",
      "14779               Neither agree nor disagree   \n",
      "14780                           Somewhat agree   \n",
      "14781                        Somewhat disagree   \n",
      "14782                           Entirely agree   \n",
      "\n",
      "      Are food areas, coffee areas, bars & toilets important to you?  \\\n",
      "0                                         Entirely agree               \n",
      "1                                         Entirely agree               \n",
      "2                                         Somewhat agree               \n",
      "3                             Neither agree nor disagree               \n",
      "4                             Neither agree nor disagree               \n",
      "...                                                  ...               \n",
      "14778                                     Entirely agree               \n",
      "14779                                  Entirely disagree               \n",
      "14780                                  Entirely disagree               \n",
      "14781                                     Entirely agree               \n",
      "14782                                  Entirely disagree               \n",
      "\n",
      "      What is your favourite attraction from below:  \\\n",
      "0                                           Ice Bar   \n",
      "1                               Happy Rollercoaster   \n",
      "2                               Happy Rollercoaster   \n",
      "3                          Crazy rollercoaster ride   \n",
      "4                                   Kids Playground   \n",
      "...                                             ...   \n",
      "14778                               Kids Playground   \n",
      "14779                                    Wooden Bar   \n",
      "14780                                       Ice Bar   \n",
      "14781                               Kids Playground   \n",
      "14782                               Kids Playground   \n",
      "\n",
      "      Were you satisfied with the last event you attended with us?  \\\n",
      "0                                         Somewhat agree             \n",
      "1                                           Mostly agree             \n",
      "2                                           Mostly agree             \n",
      "3                                         Somewhat agree             \n",
      "4                                         Entirely agree             \n",
      "...                                                  ...             \n",
      "14778                                     Entirely agree             \n",
      "14779                                       Mostly agree             \n",
      "14780                                       Mostly agree             \n",
      "14781                                     Entirely agree             \n",
      "14782                                       Mostly agree             \n",
      "\n",
      "      Would you recommend our events to other people?  \\\n",
      "0                                   Somewhat Unlikely   \n",
      "1                                     Somewhat Likely   \n",
      "2                                     Mostly Unlikely   \n",
      "3                                     Somewhat Likely   \n",
      "4                                       Very Unlikely   \n",
      "...                                               ...   \n",
      "14778                                   Very Unlikely   \n",
      "14779                                   Mostly Likely   \n",
      "14780                                 Somewhat Likely   \n",
      "14781                                   Very Unlikely   \n",
      "14782                                   Mostly Likely   \n",
      "\n",
      "      Did you find our events value for money?  \n",
      "0                            Somewhat disagree  \n",
      "1                            Entirely disagree  \n",
      "2                            Entirely disagree  \n",
      "3                            Somewhat disagree  \n",
      "4                               Entirely agree  \n",
      "...                                        ...  \n",
      "14778                           Entirely agree  \n",
      "14779                           Somewhat agree  \n",
      "14780               Neither agree nor disagree  \n",
      "14781                           Entirely agree  \n",
      "14782               Neither agree nor disagree  \n",
      "\n",
      "[14783 rows x 19 columns]\n"
     ]
    }
   ],
   "source": [
    "df = pd.read_csv('Events Raw Data.csv')\n",
    "print(df)\n"
   ]
  },
  {
   "cell_type": "code",
   "execution_count": 5,
   "metadata": {
    "colab": {
     "base_uri": "https://localhost:8080/",
     "height": 565
    },
    "id": "OMZzDpXdmJiC",
    "outputId": "c56ce389-b358-406b-e9aa-ba9283349478"
   },
   "outputs": [
    {
     "data": {
      "text/html": [
       "<div>\n",
       "<style scoped>\n",
       "    .dataframe tbody tr th:only-of-type {\n",
       "        vertical-align: middle;\n",
       "    }\n",
       "\n",
       "    .dataframe tbody tr th {\n",
       "        vertical-align: top;\n",
       "    }\n",
       "\n",
       "    .dataframe thead th {\n",
       "        text-align: right;\n",
       "    }\n",
       "</style>\n",
       "<table border=\"1\" class=\"dataframe\">\n",
       "  <thead>\n",
       "    <tr style=\"text-align: right;\">\n",
       "      <th></th>\n",
       "      <th>CUSTOMER</th>\n",
       "      <th>Age</th>\n",
       "      <th>Gender</th>\n",
       "      <th>Postcode</th>\n",
       "      <th>District</th>\n",
       "      <th>Constituency</th>\n",
       "      <th>latitude</th>\n",
       "      <th>longitude</th>\n",
       "      <th>Current_Status</th>\n",
       "      <th>Total_Household_Income</th>\n",
       "      <th>How often you attend Entertaining events in a year?</th>\n",
       "      <th>Social_Media</th>\n",
       "      <th>How many hours are you willing to travel to attend an event?</th>\n",
       "      <th>Do you enjoy adrenaline-rush activities?</th>\n",
       "      <th>Are food areas, coffee areas, bars &amp; toilets important to you?</th>\n",
       "      <th>What is your favourite attraction from below:</th>\n",
       "      <th>Were you satisfied with the last event you attended with us?</th>\n",
       "      <th>Would you recommend our events to other people?</th>\n",
       "      <th>Did you find our events value for money?</th>\n",
       "    </tr>\n",
       "  </thead>\n",
       "  <tbody>\n",
       "    <tr>\n",
       "      <th>0</th>\n",
       "      <td>1</td>\n",
       "      <td>40-49</td>\n",
       "      <td>Female</td>\n",
       "      <td>AL9 7BN</td>\n",
       "      <td>Welwyn Hatfield</td>\n",
       "      <td>Welwyn Hatfield</td>\n",
       "      <td>51.727429</td>\n",
       "      <td>-0.183648</td>\n",
       "      <td>Married with children</td>\n",
       "      <td>50,000 to 74,999</td>\n",
       "      <td>4 Times a Year</td>\n",
       "      <td>Up to 1 hour</td>\n",
       "      <td>3 hours</td>\n",
       "      <td>Entirely disagree</td>\n",
       "      <td>Entirely agree</td>\n",
       "      <td>Ice Bar</td>\n",
       "      <td>Somewhat agree</td>\n",
       "      <td>Somewhat Unlikely</td>\n",
       "      <td>Somewhat disagree</td>\n",
       "    </tr>\n",
       "    <tr>\n",
       "      <th>1</th>\n",
       "      <td>2</td>\n",
       "      <td>60-64</td>\n",
       "      <td>Male</td>\n",
       "      <td>AL7 1ZW</td>\n",
       "      <td>Welwyn Hatfield</td>\n",
       "      <td>Welwyn Hatfield</td>\n",
       "      <td>51.804482</td>\n",
       "      <td>-0.195898</td>\n",
       "      <td>Married with children</td>\n",
       "      <td>35,000 to 49,999</td>\n",
       "      <td>3 Times a Year</td>\n",
       "      <td>Up to 1 hour</td>\n",
       "      <td>5 hours</td>\n",
       "      <td>Somewhat disagree</td>\n",
       "      <td>Entirely agree</td>\n",
       "      <td>Happy Rollercoaster</td>\n",
       "      <td>Mostly agree</td>\n",
       "      <td>Somewhat Likely</td>\n",
       "      <td>Entirely disagree</td>\n",
       "    </tr>\n",
       "    <tr>\n",
       "      <th>2</th>\n",
       "      <td>3</td>\n",
       "      <td>50-59</td>\n",
       "      <td>Male</td>\n",
       "      <td>AB4 5JX</td>\n",
       "      <td>Aberdeenshire</td>\n",
       "      <td>Banff and Buchan</td>\n",
       "      <td>57.692200</td>\n",
       "      <td>-2.022295</td>\n",
       "      <td>Married with children</td>\n",
       "      <td>75,000 to 99,999</td>\n",
       "      <td>3 Times a Year</td>\n",
       "      <td>I don't spend any time at all</td>\n",
       "      <td>5 hours</td>\n",
       "      <td>Somewhat disagree</td>\n",
       "      <td>Somewhat agree</td>\n",
       "      <td>Happy Rollercoaster</td>\n",
       "      <td>Mostly agree</td>\n",
       "      <td>Mostly Unlikely</td>\n",
       "      <td>Entirely disagree</td>\n",
       "    </tr>\n",
       "    <tr>\n",
       "      <th>3</th>\n",
       "      <td>4</td>\n",
       "      <td>50-59</td>\n",
       "      <td>Female</td>\n",
       "      <td>B24 0DL</td>\n",
       "      <td>Birmingham</td>\n",
       "      <td>Birmingham, Erdington</td>\n",
       "      <td>52.526595</td>\n",
       "      <td>-1.822211</td>\n",
       "      <td>Married without children</td>\n",
       "      <td>35,000 to 49,999</td>\n",
       "      <td>1 Times a Year</td>\n",
       "      <td>Half a day</td>\n",
       "      <td>1 hour</td>\n",
       "      <td>Entirely agree</td>\n",
       "      <td>Neither agree nor disagree</td>\n",
       "      <td>Crazy rollercoaster ride</td>\n",
       "      <td>Somewhat agree</td>\n",
       "      <td>Somewhat Likely</td>\n",
       "      <td>Somewhat disagree</td>\n",
       "    </tr>\n",
       "    <tr>\n",
       "      <th>4</th>\n",
       "      <td>5</td>\n",
       "      <td>60-64</td>\n",
       "      <td>Male</td>\n",
       "      <td>E17 5QP</td>\n",
       "      <td>Waltham Forest</td>\n",
       "      <td>Walthamstow</td>\n",
       "      <td>51.593979</td>\n",
       "      <td>-0.040803</td>\n",
       "      <td>Married with children</td>\n",
       "      <td>100,000 to 149,999</td>\n",
       "      <td>3 Times a Year</td>\n",
       "      <td>Up to 1 hour</td>\n",
       "      <td>6 hours plus</td>\n",
       "      <td>Mostly disagree</td>\n",
       "      <td>Neither agree nor disagree</td>\n",
       "      <td>Kids Playground</td>\n",
       "      <td>Entirely agree</td>\n",
       "      <td>Very Unlikely</td>\n",
       "      <td>Entirely agree</td>\n",
       "    </tr>\n",
       "  </tbody>\n",
       "</table>\n",
       "</div>"
      ],
      "text/plain": [
       "   CUSTOMER    Age  Gender Postcode         District           Constituency  \\\n",
       "0         1  40-49  Female  AL9 7BN  Welwyn Hatfield        Welwyn Hatfield   \n",
       "1         2  60-64    Male  AL7 1ZW  Welwyn Hatfield        Welwyn Hatfield   \n",
       "2         3  50-59    Male  AB4 5JX    Aberdeenshire       Banff and Buchan   \n",
       "3         4  50-59  Female  B24 0DL       Birmingham  Birmingham, Erdington   \n",
       "4         5  60-64    Male  E17 5QP   Waltham Forest            Walthamstow   \n",
       "\n",
       "    latitude  longitude            Current_Status Total_Household_Income  \\\n",
       "0  51.727429  -0.183648     Married with children       50,000 to 74,999   \n",
       "1  51.804482  -0.195898     Married with children       35,000 to 49,999   \n",
       "2  57.692200  -2.022295     Married with children       75,000 to 99,999   \n",
       "3  52.526595  -1.822211  Married without children       35,000 to 49,999   \n",
       "4  51.593979  -0.040803     Married with children     100,000 to 149,999   \n",
       "\n",
       "  How often you attend Entertaining events in a year?  \\\n",
       "0                                     4 Times a Year    \n",
       "1                                     3 Times a Year    \n",
       "2                                     3 Times a Year    \n",
       "3                                     1 Times a Year    \n",
       "4                                     3 Times a Year    \n",
       "\n",
       "                    Social_Media  \\\n",
       "0                   Up to 1 hour   \n",
       "1                   Up to 1 hour   \n",
       "2  I don't spend any time at all   \n",
       "3                     Half a day   \n",
       "4                   Up to 1 hour   \n",
       "\n",
       "  How many hours are you willing to travel to attend an event?  \\\n",
       "0                                            3 hours             \n",
       "1                                            5 hours             \n",
       "2                                            5 hours             \n",
       "3                                             1 hour             \n",
       "4                                       6 hours plus             \n",
       "\n",
       "  Do you enjoy adrenaline-rush activities?  \\\n",
       "0                        Entirely disagree   \n",
       "1                        Somewhat disagree   \n",
       "2                        Somewhat disagree   \n",
       "3                           Entirely agree   \n",
       "4                          Mostly disagree   \n",
       "\n",
       "  Are food areas, coffee areas, bars & toilets important to you?  \\\n",
       "0                                     Entirely agree               \n",
       "1                                     Entirely agree               \n",
       "2                                     Somewhat agree               \n",
       "3                         Neither agree nor disagree               \n",
       "4                         Neither agree nor disagree               \n",
       "\n",
       "  What is your favourite attraction from below:  \\\n",
       "0                                       Ice Bar   \n",
       "1                           Happy Rollercoaster   \n",
       "2                           Happy Rollercoaster   \n",
       "3                      Crazy rollercoaster ride   \n",
       "4                               Kids Playground   \n",
       "\n",
       "  Were you satisfied with the last event you attended with us?  \\\n",
       "0                                     Somewhat agree             \n",
       "1                                       Mostly agree             \n",
       "2                                       Mostly agree             \n",
       "3                                     Somewhat agree             \n",
       "4                                     Entirely agree             \n",
       "\n",
       "  Would you recommend our events to other people?  \\\n",
       "0                               Somewhat Unlikely   \n",
       "1                                 Somewhat Likely   \n",
       "2                                 Mostly Unlikely   \n",
       "3                                 Somewhat Likely   \n",
       "4                                   Very Unlikely   \n",
       "\n",
       "  Did you find our events value for money?  \n",
       "0                        Somewhat disagree  \n",
       "1                        Entirely disagree  \n",
       "2                        Entirely disagree  \n",
       "3                        Somewhat disagree  \n",
       "4                           Entirely agree  "
      ]
     },
     "execution_count": 5,
     "metadata": {},
     "output_type": "execute_result"
    }
   ],
   "source": [
    "raw = pd.DataFrame(df)\n",
    "raw.head()"
   ]
  },
  {
   "cell_type": "code",
   "execution_count": 6,
   "metadata": {
    "colab": {
     "base_uri": "https://localhost:8080/"
    },
    "id": "koZG8N5JnkAH",
    "outputId": "dc5afd4b-c919-429a-9be4-5af6aa07d672"
   },
   "outputs": [
    {
     "data": {
      "text/plain": [
       "CUSTOMER                                                          0\n",
       "Age                                                               0\n",
       "Gender                                                            0\n",
       "Postcode                                                          0\n",
       "District                                                          0\n",
       "Constituency                                                      0\n",
       "latitude                                                          0\n",
       "longitude                                                         0\n",
       "Current_Status                                                    0\n",
       "Total_Household_Income                                            5\n",
       "How often you attend Entertaining events in a year?               5\n",
       "Social_Media                                                      5\n",
       "How many hours are you willing to travel to attend an event?      5\n",
       "Do you enjoy adrenaline-rush activities?                          5\n",
       "Are food areas, coffee areas, bars & toilets important to you?    5\n",
       "What is your favourite attraction from below:                     5\n",
       "Were you satisfied with the last event you attended with us?      5\n",
       "Would you recommend our events to other people?                   5\n",
       "Did you find our events value for money?                          5\n",
       "dtype: int64"
      ]
     },
     "execution_count": 6,
     "metadata": {},
     "output_type": "execute_result"
    }
   ],
   "source": [
    "raw.isnull().sum()"
   ]
  },
  {
   "cell_type": "code",
   "execution_count": 7,
   "metadata": {
    "colab": {
     "base_uri": "https://localhost:8080/",
     "height": 531
    },
    "id": "UPVFIjiHoxNn",
    "outputId": "8f6d5723-3da9-428e-e280-241614e469d0"
   },
   "outputs": [
    {
     "data": {
      "text/html": [
       "<div>\n",
       "<style scoped>\n",
       "    .dataframe tbody tr th:only-of-type {\n",
       "        vertical-align: middle;\n",
       "    }\n",
       "\n",
       "    .dataframe tbody tr th {\n",
       "        vertical-align: top;\n",
       "    }\n",
       "\n",
       "    .dataframe thead th {\n",
       "        text-align: right;\n",
       "    }\n",
       "</style>\n",
       "<table border=\"1\" class=\"dataframe\">\n",
       "  <thead>\n",
       "    <tr style=\"text-align: right;\">\n",
       "      <th></th>\n",
       "      <th>CUSTOMER</th>\n",
       "      <th>Age</th>\n",
       "      <th>Gender</th>\n",
       "      <th>Postcode</th>\n",
       "      <th>District</th>\n",
       "      <th>Constituency</th>\n",
       "      <th>latitude</th>\n",
       "      <th>longitude</th>\n",
       "      <th>Current_Status</th>\n",
       "      <th>Total_Household_Income</th>\n",
       "      <th>How often you attend Entertaining events in a year?</th>\n",
       "      <th>Social_Media</th>\n",
       "      <th>How many hours are you willing to travel to attend an event?</th>\n",
       "      <th>Do you enjoy adrenaline-rush activities?</th>\n",
       "      <th>Are food areas, coffee areas, bars &amp; toilets important to you?</th>\n",
       "      <th>What is your favourite attraction from below:</th>\n",
       "      <th>Were you satisfied with the last event you attended with us?</th>\n",
       "      <th>Would you recommend our events to other people?</th>\n",
       "      <th>Did you find our events value for money?</th>\n",
       "    </tr>\n",
       "  </thead>\n",
       "  <tbody>\n",
       "    <tr>\n",
       "      <th>21</th>\n",
       "      <td>23</td>\n",
       "      <td>50-60</td>\n",
       "      <td>Female</td>\n",
       "      <td>EN3 4YQ</td>\n",
       "      <td>Enfield</td>\n",
       "      <td>Edmonton</td>\n",
       "      <td>51.643546</td>\n",
       "      <td>-0.029532</td>\n",
       "      <td>Married with children</td>\n",
       "      <td>NaN</td>\n",
       "      <td>NaN</td>\n",
       "      <td>NaN</td>\n",
       "      <td>NaN</td>\n",
       "      <td>NaN</td>\n",
       "      <td>NaN</td>\n",
       "      <td>NaN</td>\n",
       "      <td>NaN</td>\n",
       "      <td>NaN</td>\n",
       "      <td>NaN</td>\n",
       "    </tr>\n",
       "    <tr>\n",
       "      <th>22</th>\n",
       "      <td>24</td>\n",
       "      <td>50-61</td>\n",
       "      <td>Female</td>\n",
       "      <td>EN3 4YQ</td>\n",
       "      <td>Enfield</td>\n",
       "      <td>Edmonton</td>\n",
       "      <td>51.643546</td>\n",
       "      <td>-0.029532</td>\n",
       "      <td>Married with children</td>\n",
       "      <td>NaN</td>\n",
       "      <td>NaN</td>\n",
       "      <td>NaN</td>\n",
       "      <td>NaN</td>\n",
       "      <td>NaN</td>\n",
       "      <td>NaN</td>\n",
       "      <td>NaN</td>\n",
       "      <td>NaN</td>\n",
       "      <td>NaN</td>\n",
       "      <td>NaN</td>\n",
       "    </tr>\n",
       "    <tr>\n",
       "      <th>23</th>\n",
       "      <td>25</td>\n",
       "      <td>50-62</td>\n",
       "      <td>Female</td>\n",
       "      <td>EN3 4YQ</td>\n",
       "      <td>Enfield</td>\n",
       "      <td>Edmonton</td>\n",
       "      <td>51.643546</td>\n",
       "      <td>-0.029532</td>\n",
       "      <td>Married with children</td>\n",
       "      <td>NaN</td>\n",
       "      <td>NaN</td>\n",
       "      <td>NaN</td>\n",
       "      <td>NaN</td>\n",
       "      <td>NaN</td>\n",
       "      <td>NaN</td>\n",
       "      <td>NaN</td>\n",
       "      <td>NaN</td>\n",
       "      <td>NaN</td>\n",
       "      <td>NaN</td>\n",
       "    </tr>\n",
       "    <tr>\n",
       "      <th>24</th>\n",
       "      <td>26</td>\n",
       "      <td>50-63</td>\n",
       "      <td>Female</td>\n",
       "      <td>EN3 4YQ</td>\n",
       "      <td>Enfield</td>\n",
       "      <td>Edmonton</td>\n",
       "      <td>51.643546</td>\n",
       "      <td>-0.029532</td>\n",
       "      <td>Married with children</td>\n",
       "      <td>NaN</td>\n",
       "      <td>NaN</td>\n",
       "      <td>NaN</td>\n",
       "      <td>NaN</td>\n",
       "      <td>NaN</td>\n",
       "      <td>NaN</td>\n",
       "      <td>NaN</td>\n",
       "      <td>NaN</td>\n",
       "      <td>NaN</td>\n",
       "      <td>NaN</td>\n",
       "    </tr>\n",
       "    <tr>\n",
       "      <th>25</th>\n",
       "      <td>27</td>\n",
       "      <td>50-64</td>\n",
       "      <td>Female</td>\n",
       "      <td>EN3 4YQ</td>\n",
       "      <td>Enfield</td>\n",
       "      <td>Edmonton</td>\n",
       "      <td>51.643546</td>\n",
       "      <td>-0.029532</td>\n",
       "      <td>Married with children</td>\n",
       "      <td>NaN</td>\n",
       "      <td>NaN</td>\n",
       "      <td>NaN</td>\n",
       "      <td>NaN</td>\n",
       "      <td>NaN</td>\n",
       "      <td>NaN</td>\n",
       "      <td>NaN</td>\n",
       "      <td>NaN</td>\n",
       "      <td>NaN</td>\n",
       "      <td>NaN</td>\n",
       "    </tr>\n",
       "  </tbody>\n",
       "</table>\n",
       "</div>"
      ],
      "text/plain": [
       "    CUSTOMER    Age  Gender Postcode District Constituency   latitude  \\\n",
       "21        23  50-60  Female  EN3 4YQ  Enfield     Edmonton  51.643546   \n",
       "22        24  50-61  Female  EN3 4YQ  Enfield     Edmonton  51.643546   \n",
       "23        25  50-62  Female  EN3 4YQ  Enfield     Edmonton  51.643546   \n",
       "24        26  50-63  Female  EN3 4YQ  Enfield     Edmonton  51.643546   \n",
       "25        27  50-64  Female  EN3 4YQ  Enfield     Edmonton  51.643546   \n",
       "\n",
       "    longitude         Current_Status Total_Household_Income  \\\n",
       "21  -0.029532  Married with children                    NaN   \n",
       "22  -0.029532  Married with children                    NaN   \n",
       "23  -0.029532  Married with children                    NaN   \n",
       "24  -0.029532  Married with children                    NaN   \n",
       "25  -0.029532  Married with children                    NaN   \n",
       "\n",
       "   How often you attend Entertaining events in a year? Social_Media  \\\n",
       "21                                                NaN           NaN   \n",
       "22                                                NaN           NaN   \n",
       "23                                                NaN           NaN   \n",
       "24                                                NaN           NaN   \n",
       "25                                                NaN           NaN   \n",
       "\n",
       "   How many hours are you willing to travel to attend an event?  \\\n",
       "21                                                NaN             \n",
       "22                                                NaN             \n",
       "23                                                NaN             \n",
       "24                                                NaN             \n",
       "25                                                NaN             \n",
       "\n",
       "   Do you enjoy adrenaline-rush activities?  \\\n",
       "21                                      NaN   \n",
       "22                                      NaN   \n",
       "23                                      NaN   \n",
       "24                                      NaN   \n",
       "25                                      NaN   \n",
       "\n",
       "   Are food areas, coffee areas, bars & toilets important to you?  \\\n",
       "21                                                NaN               \n",
       "22                                                NaN               \n",
       "23                                                NaN               \n",
       "24                                                NaN               \n",
       "25                                                NaN               \n",
       "\n",
       "   What is your favourite attraction from below:  \\\n",
       "21                                           NaN   \n",
       "22                                           NaN   \n",
       "23                                           NaN   \n",
       "24                                           NaN   \n",
       "25                                           NaN   \n",
       "\n",
       "   Were you satisfied with the last event you attended with us?  \\\n",
       "21                                                NaN             \n",
       "22                                                NaN             \n",
       "23                                                NaN             \n",
       "24                                                NaN             \n",
       "25                                                NaN             \n",
       "\n",
       "   Would you recommend our events to other people?  \\\n",
       "21                                             NaN   \n",
       "22                                             NaN   \n",
       "23                                             NaN   \n",
       "24                                             NaN   \n",
       "25                                             NaN   \n",
       "\n",
       "   Did you find our events value for money?  \n",
       "21                                      NaN  \n",
       "22                                      NaN  \n",
       "23                                      NaN  \n",
       "24                                      NaN  \n",
       "25                                      NaN  "
      ]
     },
     "execution_count": 7,
     "metadata": {},
     "output_type": "execute_result"
    }
   ],
   "source": [
    "raw[raw['Social_Media'].isnull()]"
   ]
  },
  {
   "cell_type": "code",
   "execution_count": 8,
   "metadata": {
    "colab": {
     "base_uri": "https://localhost:8080/"
    },
    "id": "270mIEdmrCdC",
    "outputId": "05d1d9f6-2015-4853-b4a4-33662d7c5f9a"
   },
   "outputs": [
    {
     "data": {
      "text/plain": [
       "CUSTOMER                                                          0\n",
       "Age                                                               0\n",
       "Gender                                                            0\n",
       "Postcode                                                          0\n",
       "District                                                          0\n",
       "Constituency                                                      0\n",
       "latitude                                                          0\n",
       "longitude                                                         0\n",
       "Current_Status                                                    0\n",
       "Total_Household_Income                                            0\n",
       "How often you attend Entertaining events in a year?               0\n",
       "Social_Media                                                      0\n",
       "How many hours are you willing to travel to attend an event?      0\n",
       "Do you enjoy adrenaline-rush activities?                          0\n",
       "Are food areas, coffee areas, bars & toilets important to you?    0\n",
       "What is your favourite attraction from below:                     0\n",
       "Were you satisfied with the last event you attended with us?      0\n",
       "Would you recommend our events to other people?                   0\n",
       "Did you find our events value for money?                          0\n",
       "dtype: int64"
      ]
     },
     "execution_count": 8,
     "metadata": {},
     "output_type": "execute_result"
    }
   ],
   "source": [
    "raw= raw.dropna()\n",
    "\n",
    "raw.isnull().sum()"
   ]
  },
  {
   "cell_type": "code",
   "execution_count": 9,
   "metadata": {
    "colab": {
     "base_uri": "https://localhost:8080/"
    },
    "id": "qFAQowPdtKUZ",
    "outputId": "a5a06aab-f144-485e-d834-e8615c2f1576"
   },
   "outputs": [
    {
     "name": "stdout",
     "output_type": "stream",
     "text": [
      "The number of unique values for CUSTOMER is 14778\n",
      "The number of unique values for Age is 9 -- ['17 or younger' '18-20' '21-25' '26-32' '33-39' '40-49' '50-59' '60-64'\n",
      " '65 or older']\n",
      "The number of unique values for Gender is 2 -- ['Female' 'Male']\n",
      "The number of unique values for Postcode is 14674\n",
      "The number of unique values for District is 225\n",
      "The number of unique values for Constituency is 358\n",
      "The number of unique values for latitude is 13242\n",
      "The number of unique values for longitude is 13262\n",
      "The number of unique values for Current_Status is 8 -- ['Divorced' 'Living with partner' 'Married with children'\n",
      " 'Married without children' 'Separated' 'Single, never married'\n",
      " 'Step parent' 'Widowed']\n",
      "The number of unique values for Total_Household_Income is 8 -- ['100,000 to 149,999' '150,000 to 199,999' '20,000 to 34,999'\n",
      " '200,000 or more' '35,000 to 49,999' '50,000 to 74,999'\n",
      " '75,000 to 99,999' 'Less than 20,000']\n",
      "The number of unique values for How often you attend Entertaining events in a year? is 5 -- ['1 Times a Year' '2 Times a Year' '3 Times a Year' '4 Times a Year'\n",
      " '5+ Times a Year']\n",
      "The number of unique values for Social_Media is 5 -- ['Half a day' \"I don't spend any time at all\" 'More than half a day'\n",
      " 'Up to 1 hour' 'Up to 2 hours']\n",
      "The number of unique values for How many hours are you willing to travel to attend an event? is 7 -- ['1 hour' '2 hours' '3 hours' '4 hours' '5 hours' '6 hours plus'\n",
      " 'Depends from the Event']\n",
      "The number of unique values for Do you enjoy adrenaline-rush activities? is 7 -- ['Entirely agree' 'Entirely disagree' 'Mostly agree' 'Mostly disagree'\n",
      " 'Neither agree nor disagree' 'Somewhat agree' 'Somewhat disagree']\n",
      "The number of unique values for Are food areas, coffee areas, bars & toilets important to you? is 7 -- ['Entirely agree' 'Entirely disagree' 'Mostly agree' 'Mostly disagree'\n",
      " 'Neither agree nor disagree' 'Somewhat agree' 'Somewhat disagree']\n",
      "The number of unique values for What is your favourite attraction from below: is 7 -- ['Crazy rollercoaster ride' 'Happy Rollercoaster' 'Ice Bar' 'Ice skating'\n",
      " 'Kids Playground' 'Tree climbing' 'Wooden Bar']\n",
      "The number of unique values for Were you satisfied with the last event you attended with us? is 7 -- ['Entirely agree' 'Entirely disagree' 'Mostly agree' 'Mostly disagree'\n",
      " 'Neither agree nor disagree' 'Somewhat agree' 'Somewhat disagree']\n",
      "The number of unique values for Would you recommend our events to other people? is 7 -- ['Mostly Likely' 'Mostly Unlikely' 'Neither agree nor disagree'\n",
      " 'Somewhat Likely' 'Somewhat Unlikely' 'Very Likely' 'Very Unlikely']\n",
      "The number of unique values for Did you find our events value for money? is 7 -- ['Entirely agree' 'Entirely disagree' 'Mostly agree' 'Mostly disagree'\n",
      " 'Neither agree nor disagree' 'Somewhat agree' 'Somewhat disagree']\n"
     ]
    }
   ],
   "source": [
    "for column in raw:\n",
    "    unique_vals = np.unique(raw[column])\n",
    "    nr_values = len(unique_vals)\n",
    "    if nr_values < 10:\n",
    "        print('The number of unique values for {} is {} -- {}'.format(column, nr_values,unique_vals))\n",
    "    else:\n",
    "        print('The number of unique values for {} is {}'.format(column, nr_values))"
   ]
  },
  {
   "cell_type": "code",
   "execution_count": 10,
   "metadata": {
    "colab": {
     "base_uri": "https://localhost:8080/"
    },
    "id": "14czO4wgySH8",
    "outputId": "c14e2473-58f7-44cc-b2b3-0d6e71780e43"
   },
   "outputs": [
    {
     "data": {
      "text/plain": [
       "Index(['CUSTOMER', 'Age', 'Gender', 'Postcode', 'District', 'Constituency',\n",
       "       'latitude', 'longitude', 'Current_Status', 'Total_Household_Income',\n",
       "       'How often you attend Entertaining events in a year?', 'Social_Media',\n",
       "       'How many hours are you willing to travel to attend an event?',\n",
       "       'Do you enjoy adrenaline-rush activities?',\n",
       "       'Are food areas, coffee areas, bars & toilets important to you?',\n",
       "       'What is your favourite attraction from below:',\n",
       "       'Were you satisfied with the last event you attended with us?',\n",
       "       'Would you recommend our events to other people?',\n",
       "       'Did you find our events value for money?'],\n",
       "      dtype='object')"
      ]
     },
     "execution_count": 10,
     "metadata": {},
     "output_type": "execute_result"
    }
   ],
   "source": [
    "# Getting the columns we need\n",
    "\n",
    "raw.columns"
   ]
  },
  {
   "cell_type": "code",
   "execution_count": 11,
   "metadata": {
    "id": "9FhYi6mqz-9Z"
   },
   "outputs": [],
   "source": [
    "# Looping through all the features by our y variable - see if there is relationship\n",
    "\n",
    "features = ['Age', 'Gender', 'Current_Status', 'Total_Household_Income',\n",
    "       'How often you attend Entertaining events in a year?', 'Social_Media',\n",
    "       'How many hours are you willing to travel to attend an event?',\n",
    "       'Do you enjoy adrenaline-rush activities?',\n",
    "       'Are food areas, coffee areas, bars & toilets important to you?',\n",
    "       'What is your favourite attraction from below:',\n",
    "       'Were you satisfied with the last event you attended with us?',\n",
    "       'Would you recommend our events to other people?',\n",
    "       'Did you find our events value for money?']"
   ]
  },
  {
   "cell_type": "code",
   "execution_count": 12,
   "metadata": {
    "colab": {
     "base_uri": "https://localhost:8080/",
     "height": 1000
    },
    "id": "IdhgU9BK0U7A",
    "outputId": "47c16a78-af76-4aa0-c7d9-0a775603d08c"
   },
   "outputs": [
    {
     "data": {
      "image/png": "[encoded data removed]",
      "text/plain": [
       "<Figure size 432x288 with 1 Axes>"
      ]
     },
     "metadata": {
      "needs_background": "light"
     },
     "output_type": "display_data"
    },
    {
     "data": {
      "image/png": "[encoded data removed]",
      "text/plain": [
       "<Figure size 432x288 with 1 Axes>"
      ]
     },
     "metadata": {
      "needs_background": "light"
     },
     "output_type": "display_data"
    },
    {
     "data": {
      "image/png": "[encoded data removed]",
      "text/plain": [
       "<Figure size 432x288 with 1 Axes>"
      ]
     },
     "metadata": {
      "needs_background": "light"
     },
     "output_type": "display_data"
    },
    {
     "data": {
      "image/png": "[encoded data removed]",
      "text/plain": [
       "<Figure size 432x288 with 1 Axes>"
      ]
     },
     "metadata": {
      "needs_background": "light"
     },
     "output_type": "display_data"
    },
    {
     "data": {
      "image/png": "[encoded data removed]",
      "text/plain": [
       "<Figure size 432x288 with 1 Axes>"
      ]
     },
     "metadata": {
      "needs_background": "light"
     },
     "output_type": "display_data"
    },
    {
     "ename": "KeyboardInterrupt",
     "evalue": "",
     "output_type": "error",
     "traceback": [
      "\u001b[1;31m---------------------------------------------------------------------------\u001b[0m",
      "\u001b[1;31mKeyboardInterrupt\u001b[0m                         Traceback (most recent call last)",
      "\u001b[1;32m<ipython-input-12-9ecc42ff7b05>\u001b[0m in \u001b[0;36m<module>\u001b[1;34m\u001b[0m\n\u001b[0;32m      1\u001b[0m \u001b[1;32mfor\u001b[0m \u001b[0mf\u001b[0m \u001b[1;32min\u001b[0m \u001b[0mfeatures\u001b[0m\u001b[1;33m:\u001b[0m\u001b[1;33m\u001b[0m\u001b[1;33m\u001b[0m\u001b[0m\n\u001b[1;32m----> 2\u001b[1;33m     \u001b[0msns\u001b[0m\u001b[1;33m.\u001b[0m\u001b[0mcountplot\u001b[0m\u001b[1;33m(\u001b[0m\u001b[0mx\u001b[0m \u001b[1;33m=\u001b[0m \u001b[0mf\u001b[0m\u001b[1;33m,\u001b[0m \u001b[0mdata\u001b[0m \u001b[1;33m=\u001b[0m \u001b[0mraw\u001b[0m\u001b[1;33m,\u001b[0m \u001b[0mpalette\u001b[0m \u001b[1;33m=\u001b[0m \u001b[1;34m'Set3'\u001b[0m\u001b[1;33m)\u001b[0m\u001b[1;33m\u001b[0m\u001b[1;33m\u001b[0m\u001b[0m\n\u001b[0m\u001b[0;32m      3\u001b[0m     \u001b[0mplt\u001b[0m\u001b[1;33m.\u001b[0m\u001b[0mxticks\u001b[0m\u001b[1;33m(\u001b[0m\u001b[0mrotation\u001b[0m\u001b[1;33m=\u001b[0m\u001b[1;36m45\u001b[0m\u001b[1;33m)\u001b[0m\u001b[1;33m\u001b[0m\u001b[1;33m\u001b[0m\u001b[0m\n\u001b[0;32m      4\u001b[0m     \u001b[0mplt\u001b[0m\u001b[1;33m.\u001b[0m\u001b[0mshow\u001b[0m\u001b[1;33m(\u001b[0m\u001b[1;33m)\u001b[0m\u001b[1;33m\u001b[0m\u001b[1;33m\u001b[0m\u001b[0m\n",
      "\u001b[1;32m~\\anaconda3\\lib\\site-packages\\seaborn\\_decorators.py\u001b[0m in \u001b[0;36minner_f\u001b[1;34m(*args, **kwargs)\u001b[0m\n\u001b[0;32m     44\u001b[0m             )\n\u001b[0;32m     45\u001b[0m         \u001b[0mkwargs\u001b[0m\u001b[1;33m.\u001b[0m\u001b[0mupdate\u001b[0m\u001b[1;33m(\u001b[0m\u001b[1;33m{\u001b[0m\u001b[0mk\u001b[0m\u001b[1;33m:\u001b[0m \u001b[0marg\u001b[0m \u001b[1;32mfor\u001b[0m \u001b[0mk\u001b[0m\u001b[1;33m,\u001b[0m \u001b[0marg\u001b[0m \u001b[1;32min\u001b[0m \u001b[0mzip\u001b[0m\u001b[1;33m(\u001b[0m\u001b[0msig\u001b[0m\u001b[1;33m.\u001b[0m\u001b[0mparameters\u001b[0m\u001b[1;33m,\u001b[0m \u001b[0margs\u001b[0m\u001b[1;33m)\u001b[0m\u001b[1;33m}\u001b[0m\u001b[1;33m)\u001b[0m\u001b[1;33m\u001b[0m\u001b[1;33m\u001b[0m\u001b[0m\n\u001b[1;32m---> 46\u001b[1;33m         \u001b[1;32mreturn\u001b[0m \u001b[0mf\u001b[0m\u001b[1;33m(\u001b[0m\u001b[1;33m**\u001b[0m\u001b[0mkwargs\u001b[0m\u001b[1;33m)\u001b[0m\u001b[1;33m\u001b[0m\u001b[1;33m\u001b[0m\u001b[0m\n\u001b[0m\u001b[0;32m     47\u001b[0m     \u001b[1;32mreturn\u001b[0m \u001b[0minner_f\u001b[0m\u001b[1;33m\u001b[0m\u001b[1;33m\u001b[0m\u001b[0m\n\u001b[0;32m     48\u001b[0m \u001b[1;33m\u001b[0m\u001b[0m\n",
      "\u001b[1;32m~\\anaconda3\\lib\\site-packages\\seaborn\\categorical.py\u001b[0m in \u001b[0;36mcountplot\u001b[1;34m(x, y, hue, data, order, hue_order, orient, color, palette, saturation, dodge, ax, **kwargs)\u001b[0m\n\u001b[0;32m   3603\u001b[0m \u001b[1;33m\u001b[0m\u001b[0m\n\u001b[0;32m   3604\u001b[0m     \u001b[1;32mif\u001b[0m \u001b[0max\u001b[0m \u001b[1;32mis\u001b[0m \u001b[1;32mNone\u001b[0m\u001b[1;33m:\u001b[0m\u001b[1;33m\u001b[0m\u001b[1;33m\u001b[0m\u001b[0m\n\u001b[1;32m-> 3605\u001b[1;33m         \u001b[0max\u001b[0m \u001b[1;33m=\u001b[0m \u001b[0mplt\u001b[0m\u001b[1;33m.\u001b[0m\u001b[0mgca\u001b[0m\u001b[1;33m(\u001b[0m\u001b[1;33m)\u001b[0m\u001b[1;33m\u001b[0m\u001b[1;33m\u001b[0m\u001b[0m\n\u001b[0m\u001b[0;32m   3606\u001b[0m \u001b[1;33m\u001b[0m\u001b[0m\n\u001b[0;32m   3607\u001b[0m     \u001b[0mplotter\u001b[0m\u001b[1;33m.\u001b[0m\u001b[0mplot\u001b[0m\u001b[1;33m(\u001b[0m\u001b[0max\u001b[0m\u001b[1;33m,\u001b[0m \u001b[0mkwargs\u001b[0m\u001b[1;33m)\u001b[0m\u001b[1;33m\u001b[0m\u001b[1;33m\u001b[0m\u001b[0m\n",
      "\u001b[1;32m~\\anaconda3\\lib\\site-packages\\matplotlib\\pyplot.py\u001b[0m in \u001b[0;36mgca\u001b[1;34m(**kwargs)\u001b[0m\n\u001b[0;32m   2366\u001b[0m \u001b[1;33m@\u001b[0m\u001b[0m_copy_docstring_and_deprecators\u001b[0m\u001b[1;33m(\u001b[0m\u001b[0mFigure\u001b[0m\u001b[1;33m.\u001b[0m\u001b[0mgca\u001b[0m\u001b[1;33m)\u001b[0m\u001b[1;33m\u001b[0m\u001b[1;33m\u001b[0m\u001b[0m\n\u001b[0;32m   2367\u001b[0m \u001b[1;32mdef\u001b[0m \u001b[0mgca\u001b[0m\u001b[1;33m(\u001b[0m\u001b[1;33m**\u001b[0m\u001b[0mkwargs\u001b[0m\u001b[1;33m)\u001b[0m\u001b[1;33m:\u001b[0m\u001b[1;33m\u001b[0m\u001b[1;33m\u001b[0m\u001b[0m\n\u001b[1;32m-> 2368\u001b[1;33m     \u001b[1;32mreturn\u001b[0m \u001b[0mgcf\u001b[0m\u001b[1;33m(\u001b[0m\u001b[1;33m)\u001b[0m\u001b[1;33m.\u001b[0m\u001b[0mgca\u001b[0m\u001b[1;33m(\u001b[0m\u001b[1;33m**\u001b[0m\u001b[0mkwargs\u001b[0m\u001b[1;33m)\u001b[0m\u001b[1;33m\u001b[0m\u001b[1;33m\u001b[0m\u001b[0m\n\u001b[0m\u001b[0;32m   2369\u001b[0m \u001b[1;33m\u001b[0m\u001b[0m\n\u001b[0;32m   2370\u001b[0m \u001b[1;33m\u001b[0m\u001b[0m\n",
      "\u001b[1;32m~\\anaconda3\\lib\\site-packages\\matplotlib\\figure.py\u001b[0m in \u001b[0;36mgca\u001b[1;34m(self, **kwargs)\u001b[0m\n\u001b[0;32m   2063\u001b[0m \u001b[1;33m\u001b[0m\u001b[0m\n\u001b[0;32m   2064\u001b[0m         \u001b[1;31m# no axes found, so create one which spans the figure\u001b[0m\u001b[1;33m\u001b[0m\u001b[1;33m\u001b[0m\u001b[1;33m\u001b[0m\u001b[0m\n\u001b[1;32m-> 2065\u001b[1;33m         \u001b[1;32mreturn\u001b[0m \u001b[0mself\u001b[0m\u001b[1;33m.\u001b[0m\u001b[0madd_subplot\u001b[0m\u001b[1;33m(\u001b[0m\u001b[1;36m1\u001b[0m\u001b[1;33m,\u001b[0m \u001b[1;36m1\u001b[0m\u001b[1;33m,\u001b[0m \u001b[1;36m1\u001b[0m\u001b[1;33m,\u001b[0m \u001b[1;33m**\u001b[0m\u001b[0mkwargs\u001b[0m\u001b[1;33m)\u001b[0m\u001b[1;33m\u001b[0m\u001b[1;33m\u001b[0m\u001b[0m\n\u001b[0m\u001b[0;32m   2066\u001b[0m \u001b[1;33m\u001b[0m\u001b[0m\n\u001b[0;32m   2067\u001b[0m     \u001b[1;32mdef\u001b[0m \u001b[0msca\u001b[0m\u001b[1;33m(\u001b[0m\u001b[0mself\u001b[0m\u001b[1;33m,\u001b[0m \u001b[0ma\u001b[0m\u001b[1;33m)\u001b[0m\u001b[1;33m:\u001b[0m\u001b[1;33m\u001b[0m\u001b[1;33m\u001b[0m\u001b[0m\n",
      "\u001b[1;32m~\\anaconda3\\lib\\site-packages\\matplotlib\\figure.py\u001b[0m in \u001b[0;36madd_subplot\u001b[1;34m(self, *args, **kwargs)\u001b[0m\n\u001b[0;32m   1400\u001b[0m                     \u001b[1;31m# more similar to add_axes.\u001b[0m\u001b[1;33m\u001b[0m\u001b[1;33m\u001b[0m\u001b[1;33m\u001b[0m\u001b[0m\n\u001b[0;32m   1401\u001b[0m                     \u001b[0mself\u001b[0m\u001b[1;33m.\u001b[0m\u001b[0m_axstack\u001b[0m\u001b[1;33m.\u001b[0m\u001b[0mremove\u001b[0m\u001b[1;33m(\u001b[0m\u001b[0max\u001b[0m\u001b[1;33m)\u001b[0m\u001b[1;33m\u001b[0m\u001b[1;33m\u001b[0m\u001b[0m\n\u001b[1;32m-> 1402\u001b[1;33m             \u001b[0max\u001b[0m \u001b[1;33m=\u001b[0m \u001b[0msubplot_class_factory\u001b[0m\u001b[1;33m(\u001b[0m\u001b[0mprojection_class\u001b[0m\u001b[1;33m)\u001b[0m\u001b[1;33m(\u001b[0m\u001b[0mself\u001b[0m\u001b[1;33m,\u001b[0m \u001b[1;33m*\u001b[0m\u001b[0margs\u001b[0m\u001b[1;33m,\u001b[0m \u001b[1;33m**\u001b[0m\u001b[0mkwargs\u001b[0m\u001b[1;33m)\u001b[0m\u001b[1;33m\u001b[0m\u001b[1;33m\u001b[0m\u001b[0m\n\u001b[0m\u001b[0;32m   1403\u001b[0m \u001b[1;33m\u001b[0m\u001b[0m\n\u001b[0;32m   1404\u001b[0m         \u001b[1;32mreturn\u001b[0m \u001b[0mself\u001b[0m\u001b[1;33m.\u001b[0m\u001b[0m_add_axes_internal\u001b[0m\u001b[1;33m(\u001b[0m\u001b[0mkey\u001b[0m\u001b[1;33m,\u001b[0m \u001b[0max\u001b[0m\u001b[1;33m)\u001b[0m\u001b[1;33m\u001b[0m\u001b[1;33m\u001b[0m\u001b[0m\n",
      "\u001b[1;32m~\\anaconda3\\lib\\site-packages\\matplotlib\\axes\\_subplots.py\u001b[0m in \u001b[0;36m__init__\u001b[1;34m(self, fig, *args, **kwargs)\u001b[0m\n\u001b[0;32m     40\u001b[0m         \u001b[0mself\u001b[0m\u001b[1;33m.\u001b[0m\u001b[0mupdate_params\u001b[0m\u001b[1;33m(\u001b[0m\u001b[1;33m)\u001b[0m\u001b[1;33m\u001b[0m\u001b[1;33m\u001b[0m\u001b[0m\n\u001b[0;32m     41\u001b[0m         \u001b[1;31m# _axes_class is set in the subplot_class_factory\u001b[0m\u001b[1;33m\u001b[0m\u001b[1;33m\u001b[0m\u001b[1;33m\u001b[0m\u001b[0m\n\u001b[1;32m---> 42\u001b[1;33m         \u001b[0mself\u001b[0m\u001b[1;33m.\u001b[0m\u001b[0m_axes_class\u001b[0m\u001b[1;33m.\u001b[0m\u001b[0m__init__\u001b[0m\u001b[1;33m(\u001b[0m\u001b[0mself\u001b[0m\u001b[1;33m,\u001b[0m \u001b[0mfig\u001b[0m\u001b[1;33m,\u001b[0m \u001b[0mself\u001b[0m\u001b[1;33m.\u001b[0m\u001b[0mfigbox\u001b[0m\u001b[1;33m,\u001b[0m \u001b[1;33m**\u001b[0m\u001b[0mkwargs\u001b[0m\u001b[1;33m)\u001b[0m\u001b[1;33m\u001b[0m\u001b[1;33m\u001b[0m\u001b[0m\n\u001b[0m\u001b[0;32m     43\u001b[0m         \u001b[1;31m# add a layout box to this, for both the full axis, and the poss\u001b[0m\u001b[1;33m\u001b[0m\u001b[1;33m\u001b[0m\u001b[1;33m\u001b[0m\u001b[0m\n\u001b[0;32m     44\u001b[0m         \u001b[1;31m# of the axis.  We need both because the axes may become smaller\u001b[0m\u001b[1;33m\u001b[0m\u001b[1;33m\u001b[0m\u001b[1;33m\u001b[0m\u001b[0m\n",
      "\u001b[1;32m~\\anaconda3\\lib\\site-packages\\matplotlib\\axes\\_base.py\u001b[0m in \u001b[0;36m__init__\u001b[1;34m(self, fig, rect, facecolor, frameon, sharex, sharey, label, xscale, yscale, box_aspect, **kwargs)\u001b[0m\n\u001b[0;32m    509\u001b[0m \u001b[1;33m\u001b[0m\u001b[0m\n\u001b[0;32m    510\u001b[0m         \u001b[0mself\u001b[0m\u001b[1;33m.\u001b[0m\u001b[0m_rasterization_zorder\u001b[0m \u001b[1;33m=\u001b[0m \u001b[1;32mNone\u001b[0m\u001b[1;33m\u001b[0m\u001b[1;33m\u001b[0m\u001b[0m\n\u001b[1;32m--> 511\u001b[1;33m         \u001b[0mself\u001b[0m\u001b[1;33m.\u001b[0m\u001b[0mcla\u001b[0m\u001b[1;33m(\u001b[0m\u001b[1;33m)\u001b[0m\u001b[1;33m\u001b[0m\u001b[1;33m\u001b[0m\u001b[0m\n\u001b[0m\u001b[0;32m    512\u001b[0m \u001b[1;33m\u001b[0m\u001b[0m\n\u001b[0;32m    513\u001b[0m         \u001b[1;31m# funcs used to format x and y - fall back on major formatters\u001b[0m\u001b[1;33m\u001b[0m\u001b[1;33m\u001b[0m\u001b[1;33m\u001b[0m\u001b[0m\n",
      "\u001b[1;32m~\\anaconda3\\lib\\site-packages\\matplotlib\\axes\\_base.py\u001b[0m in \u001b[0;36mcla\u001b[1;34m(self)\u001b[0m\n\u001b[0;32m   1109\u001b[0m \u001b[1;33m\u001b[0m\u001b[0m\n\u001b[0;32m   1110\u001b[0m         \u001b[0mself\u001b[0m\u001b[1;33m.\u001b[0m\u001b[0mgrid\u001b[0m\u001b[1;33m(\u001b[0m\u001b[1;32mFalse\u001b[0m\u001b[1;33m)\u001b[0m  \u001b[1;31m# Disable grid on init to use rcParameter\u001b[0m\u001b[1;33m\u001b[0m\u001b[1;33m\u001b[0m\u001b[0m\n\u001b[1;32m-> 1111\u001b[1;33m         self.grid(self._gridOn, which=mpl.rcParams['axes.grid.which'],\n\u001b[0m\u001b[0;32m   1112\u001b[0m                   axis=mpl.rcParams['axes.grid.axis'])\n\u001b[0;32m   1113\u001b[0m         props = font_manager.FontProperties(\n",
      "\u001b[1;32m~\\anaconda3\\lib\\site-packages\\matplotlib\\axes\\_base.py\u001b[0m in \u001b[0;36mgrid\u001b[1;34m(self, b, which, axis, **kwargs)\u001b[0m\n\u001b[0;32m   2890\u001b[0m             \u001b[0mself\u001b[0m\u001b[1;33m.\u001b[0m\u001b[0mxaxis\u001b[0m\u001b[1;33m.\u001b[0m\u001b[0mgrid\u001b[0m\u001b[1;33m(\u001b[0m\u001b[0mb\u001b[0m\u001b[1;33m,\u001b[0m \u001b[0mwhich\u001b[0m\u001b[1;33m=\u001b[0m\u001b[0mwhich\u001b[0m\u001b[1;33m,\u001b[0m \u001b[1;33m**\u001b[0m\u001b[0mkwargs\u001b[0m\u001b[1;33m)\u001b[0m\u001b[1;33m\u001b[0m\u001b[1;33m\u001b[0m\u001b[0m\n\u001b[0;32m   2891\u001b[0m         \u001b[1;32mif\u001b[0m \u001b[0maxis\u001b[0m \u001b[1;32min\u001b[0m \u001b[1;33m[\u001b[0m\u001b[1;34m'y'\u001b[0m\u001b[1;33m,\u001b[0m \u001b[1;34m'both'\u001b[0m\u001b[1;33m]\u001b[0m\u001b[1;33m:\u001b[0m\u001b[1;33m\u001b[0m\u001b[1;33m\u001b[0m\u001b[0m\n\u001b[1;32m-> 2892\u001b[1;33m             \u001b[0mself\u001b[0m\u001b[1;33m.\u001b[0m\u001b[0myaxis\u001b[0m\u001b[1;33m.\u001b[0m\u001b[0mgrid\u001b[0m\u001b[1;33m(\u001b[0m\u001b[0mb\u001b[0m\u001b[1;33m,\u001b[0m \u001b[0mwhich\u001b[0m\u001b[1;33m=\u001b[0m\u001b[0mwhich\u001b[0m\u001b[1;33m,\u001b[0m \u001b[1;33m**\u001b[0m\u001b[0mkwargs\u001b[0m\u001b[1;33m)\u001b[0m\u001b[1;33m\u001b[0m\u001b[1;33m\u001b[0m\u001b[0m\n\u001b[0m\u001b[0;32m   2893\u001b[0m \u001b[1;33m\u001b[0m\u001b[0m\n\u001b[0;32m   2894\u001b[0m     def ticklabel_format(self, *, axis='both', style='', scilimits=None,\n",
      "\u001b[1;32m~\\anaconda3\\lib\\site-packages\\matplotlib\\axis.py\u001b[0m in \u001b[0;36mgrid\u001b[1;34m(self, b, which, **kwargs)\u001b[0m\n\u001b[0;32m   1449\u001b[0m             \u001b[1;32melif\u001b[0m \u001b[0mb\u001b[0m \u001b[1;32mis\u001b[0m \u001b[1;32mnot\u001b[0m \u001b[1;32mNone\u001b[0m\u001b[1;33m:\u001b[0m\u001b[1;33m\u001b[0m\u001b[1;33m\u001b[0m\u001b[0m\n\u001b[0;32m   1450\u001b[0m                 \u001b[0mgridkw\u001b[0m\u001b[1;33m[\u001b[0m\u001b[1;34m'gridOn'\u001b[0m\u001b[1;33m]\u001b[0m \u001b[1;33m=\u001b[0m \u001b[0mb\u001b[0m\u001b[1;33m\u001b[0m\u001b[1;33m\u001b[0m\u001b[0m\n\u001b[1;32m-> 1451\u001b[1;33m             \u001b[0mself\u001b[0m\u001b[1;33m.\u001b[0m\u001b[0mset_tick_params\u001b[0m\u001b[1;33m(\u001b[0m\u001b[0mwhich\u001b[0m\u001b[1;33m=\u001b[0m\u001b[1;34m'major'\u001b[0m\u001b[1;33m,\u001b[0m \u001b[1;33m**\u001b[0m\u001b[0mgridkw\u001b[0m\u001b[1;33m)\u001b[0m\u001b[1;33m\u001b[0m\u001b[1;33m\u001b[0m\u001b[0m\n\u001b[0m\u001b[0;32m   1452\u001b[0m         \u001b[0mself\u001b[0m\u001b[1;33m.\u001b[0m\u001b[0mstale\u001b[0m \u001b[1;33m=\u001b[0m \u001b[1;32mTrue\u001b[0m\u001b[1;33m\u001b[0m\u001b[1;33m\u001b[0m\u001b[0m\n\u001b[0;32m   1453\u001b[0m \u001b[1;33m\u001b[0m\u001b[0m\n",
      "\u001b[1;32m~\\anaconda3\\lib\\site-packages\\matplotlib\\axis.py\u001b[0m in \u001b[0;36mset_tick_params\u001b[1;34m(self, which, reset, **kw)\u001b[0m\n\u001b[0;32m    837\u001b[0m                 \u001b[0mself\u001b[0m\u001b[1;33m.\u001b[0m\u001b[0m_major_tick_kw\u001b[0m\u001b[1;33m.\u001b[0m\u001b[0mupdate\u001b[0m\u001b[1;33m(\u001b[0m\u001b[0mkwtrans\u001b[0m\u001b[1;33m)\u001b[0m\u001b[1;33m\u001b[0m\u001b[1;33m\u001b[0m\u001b[0m\n\u001b[0;32m    838\u001b[0m                 \u001b[1;32mfor\u001b[0m \u001b[0mtick\u001b[0m \u001b[1;32min\u001b[0m \u001b[0mself\u001b[0m\u001b[1;33m.\u001b[0m\u001b[0mmajorTicks\u001b[0m\u001b[1;33m:\u001b[0m\u001b[1;33m\u001b[0m\u001b[1;33m\u001b[0m\u001b[0m\n\u001b[1;32m--> 839\u001b[1;33m                     \u001b[0mtick\u001b[0m\u001b[1;33m.\u001b[0m\u001b[0m_apply_params\u001b[0m\u001b[1;33m(\u001b[0m\u001b[1;33m**\u001b[0m\u001b[0mkwtrans\u001b[0m\u001b[1;33m)\u001b[0m\u001b[1;33m\u001b[0m\u001b[1;33m\u001b[0m\u001b[0m\n\u001b[0m\u001b[0;32m    840\u001b[0m             \u001b[1;32mif\u001b[0m \u001b[0mwhich\u001b[0m \u001b[1;32min\u001b[0m \u001b[1;33m[\u001b[0m\u001b[1;34m'minor'\u001b[0m\u001b[1;33m,\u001b[0m \u001b[1;34m'both'\u001b[0m\u001b[1;33m]\u001b[0m\u001b[1;33m:\u001b[0m\u001b[1;33m\u001b[0m\u001b[1;33m\u001b[0m\u001b[0m\n\u001b[0;32m    841\u001b[0m                 \u001b[0mself\u001b[0m\u001b[1;33m.\u001b[0m\u001b[0m_minor_tick_kw\u001b[0m\u001b[1;33m.\u001b[0m\u001b[0mupdate\u001b[0m\u001b[1;33m(\u001b[0m\u001b[0mkwtrans\u001b[0m\u001b[1;33m)\u001b[0m\u001b[1;33m\u001b[0m\u001b[1;33m\u001b[0m\u001b[0m\n",
      "\u001b[1;32m~\\anaconda3\\lib\\site-packages\\matplotlib\\axis.py\u001b[0m in \u001b[0;36m_apply_params\u001b[1;34m(self, **kw)\u001b[0m\n\u001b[0;32m    382\u001b[0m                     if k in ['labelsize', 'labelcolor']}\n\u001b[0;32m    383\u001b[0m         \u001b[0mself\u001b[0m\u001b[1;33m.\u001b[0m\u001b[0mlabel1\u001b[0m\u001b[1;33m.\u001b[0m\u001b[0mset\u001b[0m\u001b[1;33m(\u001b[0m\u001b[1;33m**\u001b[0m\u001b[0mlabel_kw\u001b[0m\u001b[1;33m)\u001b[0m\u001b[1;33m\u001b[0m\u001b[1;33m\u001b[0m\u001b[0m\n\u001b[1;32m--> 384\u001b[1;33m         \u001b[0mself\u001b[0m\u001b[1;33m.\u001b[0m\u001b[0mlabel2\u001b[0m\u001b[1;33m.\u001b[0m\u001b[0mset\u001b[0m\u001b[1;33m(\u001b[0m\u001b[1;33m**\u001b[0m\u001b[0mlabel_kw\u001b[0m\u001b[1;33m)\u001b[0m\u001b[1;33m\u001b[0m\u001b[1;33m\u001b[0m\u001b[0m\n\u001b[0m\u001b[0;32m    385\u001b[0m         \u001b[1;32mfor\u001b[0m \u001b[0mk\u001b[0m\u001b[1;33m,\u001b[0m \u001b[0mv\u001b[0m \u001b[1;32min\u001b[0m \u001b[0mlabel_kw\u001b[0m\u001b[1;33m.\u001b[0m\u001b[0mitems\u001b[0m\u001b[1;33m(\u001b[0m\u001b[1;33m)\u001b[0m\u001b[1;33m:\u001b[0m\u001b[1;33m\u001b[0m\u001b[1;33m\u001b[0m\u001b[0m\n\u001b[0;32m    386\u001b[0m             \u001b[1;31m# for labelsize the text objects covert str ('small')\u001b[0m\u001b[1;33m\u001b[0m\u001b[1;33m\u001b[0m\u001b[1;33m\u001b[0m\u001b[0m\n",
      "\u001b[1;32m~\\anaconda3\\lib\\site-packages\\matplotlib\\artist.py\u001b[0m in \u001b[0;36mset\u001b[1;34m(self, **kwargs)\u001b[0m\n\u001b[0;32m   1086\u001b[0m     \u001b[1;32mdef\u001b[0m \u001b[0mset\u001b[0m\u001b[1;33m(\u001b[0m\u001b[0mself\u001b[0m\u001b[1;33m,\u001b[0m \u001b[1;33m**\u001b[0m\u001b[0mkwargs\u001b[0m\u001b[1;33m)\u001b[0m\u001b[1;33m:\u001b[0m\u001b[1;33m\u001b[0m\u001b[1;33m\u001b[0m\u001b[0m\n\u001b[0;32m   1087\u001b[0m         \u001b[1;34m\"\"\"A property batch setter.  Pass *kwargs* to set properties.\"\"\"\u001b[0m\u001b[1;33m\u001b[0m\u001b[1;33m\u001b[0m\u001b[0m\n\u001b[1;32m-> 1088\u001b[1;33m         \u001b[0mkwargs\u001b[0m \u001b[1;33m=\u001b[0m \u001b[0mcbook\u001b[0m\u001b[1;33m.\u001b[0m\u001b[0mnormalize_kwargs\u001b[0m\u001b[1;33m(\u001b[0m\u001b[0mkwargs\u001b[0m\u001b[1;33m,\u001b[0m \u001b[0mself\u001b[0m\u001b[1;33m)\u001b[0m\u001b[1;33m\u001b[0m\u001b[1;33m\u001b[0m\u001b[0m\n\u001b[0m\u001b[0;32m   1089\u001b[0m         \u001b[0mmove_color_to_start\u001b[0m \u001b[1;33m=\u001b[0m \u001b[1;32mFalse\u001b[0m\u001b[1;33m\u001b[0m\u001b[1;33m\u001b[0m\u001b[0m\n\u001b[0;32m   1090\u001b[0m         \u001b[1;32mif\u001b[0m \u001b[1;34m\"color\"\u001b[0m \u001b[1;32min\u001b[0m \u001b[0mkwargs\u001b[0m\u001b[1;33m:\u001b[0m\u001b[1;33m\u001b[0m\u001b[1;33m\u001b[0m\u001b[0m\n",
      "\u001b[1;32m~\\anaconda3\\lib\\site-packages\\matplotlib\\cbook\\deprecation.py\u001b[0m in \u001b[0;36mwrapper\u001b[1;34m(*inner_args, **inner_kwargs)\u001b[0m\n\u001b[0;32m    409\u001b[0m                          \u001b[1;32melse\u001b[0m \u001b[0mdeprecation_addendum\u001b[0m\u001b[1;33m,\u001b[0m\u001b[1;33m\u001b[0m\u001b[1;33m\u001b[0m\u001b[0m\n\u001b[0;32m    410\u001b[0m                 **kwargs)\n\u001b[1;32m--> 411\u001b[1;33m         \u001b[1;32mreturn\u001b[0m \u001b[0mfunc\u001b[0m\u001b[1;33m(\u001b[0m\u001b[1;33m*\u001b[0m\u001b[0minner_args\u001b[0m\u001b[1;33m,\u001b[0m \u001b[1;33m**\u001b[0m\u001b[0minner_kwargs\u001b[0m\u001b[1;33m)\u001b[0m\u001b[1;33m\u001b[0m\u001b[1;33m\u001b[0m\u001b[0m\n\u001b[0m\u001b[0;32m    412\u001b[0m \u001b[1;33m\u001b[0m\u001b[0m\n\u001b[0;32m    413\u001b[0m     \u001b[1;32mreturn\u001b[0m \u001b[0mwrapper\u001b[0m\u001b[1;33m\u001b[0m\u001b[1;33m\u001b[0m\u001b[0m\n",
      "\u001b[1;32m~\\anaconda3\\lib\\site-packages\\matplotlib\\cbook\\deprecation.py\u001b[0m in \u001b[0;36mwrapper\u001b[1;34m(*inner_args, **inner_kwargs)\u001b[0m\n\u001b[0;32m    384\u001b[0m     \u001b[1;33m@\u001b[0m\u001b[0mfunctools\u001b[0m\u001b[1;33m.\u001b[0m\u001b[0mwraps\u001b[0m\u001b[1;33m(\u001b[0m\u001b[0mfunc\u001b[0m\u001b[1;33m)\u001b[0m\u001b[1;33m\u001b[0m\u001b[1;33m\u001b[0m\u001b[0m\n\u001b[0;32m    385\u001b[0m     \u001b[1;32mdef\u001b[0m \u001b[0mwrapper\u001b[0m\u001b[1;33m(\u001b[0m\u001b[1;33m*\u001b[0m\u001b[0minner_args\u001b[0m\u001b[1;33m,\u001b[0m \u001b[1;33m**\u001b[0m\u001b[0minner_kwargs\u001b[0m\u001b[1;33m)\u001b[0m\u001b[1;33m:\u001b[0m\u001b[1;33m\u001b[0m\u001b[1;33m\u001b[0m\u001b[0m\n\u001b[1;32m--> 386\u001b[1;33m         \u001b[0marguments\u001b[0m \u001b[1;33m=\u001b[0m \u001b[0msignature\u001b[0m\u001b[1;33m.\u001b[0m\u001b[0mbind\u001b[0m\u001b[1;33m(\u001b[0m\u001b[1;33m*\u001b[0m\u001b[0minner_args\u001b[0m\u001b[1;33m,\u001b[0m \u001b[1;33m**\u001b[0m\u001b[0minner_kwargs\u001b[0m\u001b[1;33m)\u001b[0m\u001b[1;33m.\u001b[0m\u001b[0marguments\u001b[0m\u001b[1;33m\u001b[0m\u001b[1;33m\u001b[0m\u001b[0m\n\u001b[0m\u001b[0;32m    387\u001b[0m         \u001b[1;32mif\u001b[0m \u001b[0mis_varargs\u001b[0m \u001b[1;32mand\u001b[0m \u001b[0marguments\u001b[0m\u001b[1;33m.\u001b[0m\u001b[0mget\u001b[0m\u001b[1;33m(\u001b[0m\u001b[0mname\u001b[0m\u001b[1;33m)\u001b[0m\u001b[1;33m:\u001b[0m\u001b[1;33m\u001b[0m\u001b[1;33m\u001b[0m\u001b[0m\n\u001b[0;32m    388\u001b[0m             warn_deprecated(\n",
      "\u001b[1;32m~\\anaconda3\\lib\\inspect.py\u001b[0m in \u001b[0;36mbind\u001b[1;34m(self, *args, **kwargs)\u001b[0m\n\u001b[0;32m   3035\u001b[0m         \u001b[1;32mif\u001b[0m \u001b[0mthe\u001b[0m \u001b[0mpassed\u001b[0m \u001b[0marguments\u001b[0m \u001b[0mcan\u001b[0m \u001b[1;32mnot\u001b[0m \u001b[0mbe\u001b[0m \u001b[0mbound\u001b[0m\u001b[1;33m.\u001b[0m\u001b[1;33m\u001b[0m\u001b[1;33m\u001b[0m\u001b[0m\n\u001b[0;32m   3036\u001b[0m         \"\"\"\n\u001b[1;32m-> 3037\u001b[1;33m         \u001b[1;32mreturn\u001b[0m \u001b[0mself\u001b[0m\u001b[1;33m.\u001b[0m\u001b[0m_bind\u001b[0m\u001b[1;33m(\u001b[0m\u001b[0margs\u001b[0m\u001b[1;33m,\u001b[0m \u001b[0mkwargs\u001b[0m\u001b[1;33m)\u001b[0m\u001b[1;33m\u001b[0m\u001b[1;33m\u001b[0m\u001b[0m\n\u001b[0m\u001b[0;32m   3038\u001b[0m \u001b[1;33m\u001b[0m\u001b[0m\n\u001b[0;32m   3039\u001b[0m     \u001b[1;32mdef\u001b[0m \u001b[0mbind_partial\u001b[0m\u001b[1;33m(\u001b[0m\u001b[0mself\u001b[0m\u001b[1;33m,\u001b[0m \u001b[1;33m/\u001b[0m\u001b[1;33m,\u001b[0m \u001b[1;33m*\u001b[0m\u001b[0margs\u001b[0m\u001b[1;33m,\u001b[0m \u001b[1;33m**\u001b[0m\u001b[0mkwargs\u001b[0m\u001b[1;33m)\u001b[0m\u001b[1;33m:\u001b[0m\u001b[1;33m\u001b[0m\u001b[1;33m\u001b[0m\u001b[0m\n",
      "\u001b[1;32m~\\anaconda3\\lib\\inspect.py\u001b[0m in \u001b[0;36m_bind\u001b[1;34m(self, args, kwargs, partial)\u001b[0m\n\u001b[0;32m   2989\u001b[0m                 \u001b[1;32mcontinue\u001b[0m\u001b[1;33m\u001b[0m\u001b[1;33m\u001b[0m\u001b[0m\n\u001b[0;32m   2990\u001b[0m \u001b[1;33m\u001b[0m\u001b[0m\n\u001b[1;32m-> 2991\u001b[1;33m             \u001b[1;32mif\u001b[0m \u001b[0mparam\u001b[0m\u001b[1;33m.\u001b[0m\u001b[0mkind\u001b[0m \u001b[1;33m==\u001b[0m \u001b[0m_VAR_POSITIONAL\u001b[0m\u001b[1;33m:\u001b[0m\u001b[1;33m\u001b[0m\u001b[1;33m\u001b[0m\u001b[0m\n\u001b[0m\u001b[0;32m   2992\u001b[0m                 \u001b[1;31m# Named arguments don't refer to '*args'-like parameters.\u001b[0m\u001b[1;33m\u001b[0m\u001b[1;33m\u001b[0m\u001b[1;33m\u001b[0m\u001b[0m\n\u001b[0;32m   2993\u001b[0m                 \u001b[1;31m# We only arrive here if the positional arguments ended\u001b[0m\u001b[1;33m\u001b[0m\u001b[1;33m\u001b[0m\u001b[1;33m\u001b[0m\u001b[0m\n",
      "\u001b[1;32m~\\anaconda3\\lib\\inspect.py\u001b[0m in \u001b[0;36mkind\u001b[1;34m(self)\u001b[0m\n\u001b[0;32m   2551\u001b[0m     \u001b[1;33m@\u001b[0m\u001b[0mproperty\u001b[0m\u001b[1;33m\u001b[0m\u001b[1;33m\u001b[0m\u001b[0m\n\u001b[0;32m   2552\u001b[0m     \u001b[1;32mdef\u001b[0m \u001b[0mkind\u001b[0m\u001b[1;33m(\u001b[0m\u001b[0mself\u001b[0m\u001b[1;33m)\u001b[0m\u001b[1;33m:\u001b[0m\u001b[1;33m\u001b[0m\u001b[1;33m\u001b[0m\u001b[0m\n\u001b[1;32m-> 2553\u001b[1;33m         \u001b[1;32mreturn\u001b[0m \u001b[0mself\u001b[0m\u001b[1;33m.\u001b[0m\u001b[0m_kind\u001b[0m\u001b[1;33m\u001b[0m\u001b[1;33m\u001b[0m\u001b[0m\n\u001b[0m\u001b[0;32m   2554\u001b[0m \u001b[1;33m\u001b[0m\u001b[0m\n\u001b[0;32m   2555\u001b[0m     def replace(self, *, name=_void, kind=_void,\n",
      "\u001b[1;31mKeyboardInterrupt\u001b[0m: "
     ]
    },
    {
     "data": {
      "text/plain": [
       "<Figure size 432x288 with 0 Axes>"
      ]
     },
     "metadata": {},
     "output_type": "display_data"
    }
   ],
   "source": [
    "for f in features:\n",
    "    sns.countplot(x = f, data = raw, palette = 'Set3')\n",
    "    plt.xticks(rotation=45)\n",
    "    plt.show()\n"
   ]
  },
  {
   "cell_type": "code",
   "execution_count": null,
   "metadata": {
    "id": "lATJUPp_813k"
   },
   "outputs": [],
   "source": []
  },
  {
   "cell_type": "markdown",
   "metadata": {
    "id": "w8lRVBxp9pDh"
   },
   "source": [
    "**Feature Engineering - Numeric Representation**"
   ]
  },
  {
   "cell_type": "code",
   "execution_count": null,
   "metadata": {
    "colab": {
     "base_uri": "https://localhost:8080/",
     "height": 379
    },
    "id": "Dlmcx_DzJYRs",
    "outputId": "0c20b73d-d496-4a9c-c9d1-28401f943067"
   },
   "outputs": [],
   "source": [
    "# keeping the columns we need\n",
    "new_df = raw[features]\n",
    "\n",
    "# Making categorical variables into numeric representation\n",
    "new_raw = pd.get_dummies(new_df, columns = features)\n",
    "\n",
    "# Notes:\n",
    "# We can also do this with Label Encoding and OneHotEncoder from the preprocessing library\n",
    "\n",
    "print(new_raw.shape)\n",
    "# print the shape\n",
    "\n",
    "new_raw.head(2)"
   ]
  },
  {
   "cell_type": "markdown",
   "metadata": {
    "id": "Y0jntM3iT1e4"
   },
   "source": [
    "### **K-means Clustering**"
   ]
  },
  {
   "cell_type": "code",
   "execution_count": null,
   "metadata": {
    "colab": {
     "base_uri": "https://localhost:8080/"
    },
    "id": "_KjZFaB1O2aD",
    "outputId": "a6c79334-6b5b-4e9d-e867-f0000263416c"
   },
   "outputs": [],
   "source": [
    "\n",
    "from sklearn.linear_model import LinearRegression\n",
    "from sklearn.linear_model import LogisticRegression\n",
    "from sklearn.tree import DecisionTreeClassifier\n",
    "from sklearn.model_selection import train_test_split\n",
    "from sklearn.metrics import r2_score, explained_variance_score, confusion_matrix, accuracy_score, classification_report, log_loss\n",
    "from math import sqrt\n",
    "\n",
    "from sklearn.cluster import KMeans, k_means\n",
    "\n",
    "%matplotlib inline\n",
    "\n",
    "\n",
    "\n",
    "X_train = new_raw.values\n",
    "\n",
    "# We wills start with 5 clusters\n",
    "\n",
    "kmeans = KMeans(n_clusters=5, random_state=540)\n",
    "kmeans = kmeans.fit(X_train)\n",
    "\n",
    "# Prints the clusters assigned to each observation\n",
    "print(\"The clusters are: \", kmeans.labels_)\n",
    "\n",
    "# Prints the Inertia\n",
    "print(\"The Inertia is: \", kmeans.inertia_)\n",
    "\n",
    "\n"
   ]
  },
  {
   "cell_type": "code",
   "execution_count": null,
   "metadata": {
    "id": "sdtQOC5RZwJH"
   },
   "outputs": [],
   "source": []
  },
  {
   "cell_type": "markdown",
   "metadata": {
    "id": "_G3VlvCuZxIm"
   },
   "source": [
    "**What is Inertia:**\n",
    "\n",
    "Inertia is the within-cluster sum of squares criterion. It is a metric that shows how internally coherent the clusters are. Inertia assumes that clusters are convex and isotropic; performs poorly elongated clusters, or manifolds with irregular shapes; better use hierarchical clustering here. Inertia also performs poorly in very high-dimensional spaces since Euclidean distances become inflated and no normalisation is applied beforehand; not a normalised metric."
   ]
  },
  {
   "cell_type": "code",
   "execution_count": null,
   "metadata": {
    "colab": {
     "base_uri": "https://localhost:8080/"
    },
    "id": "S3njhWByZ5Hz",
    "outputId": "2c74c519-761d-4f02-cbf2-f0046fc7b470"
   },
   "outputs": [],
   "source": [
    "# How to find the best number if Ks?\n",
    "\n",
    "# Running K means with multible Ks\n",
    "\n",
    "no_of_clusters = range(2,20) #[2,3,4,5,6,7,8,9]\n",
    "inertia = []\n",
    "\n",
    "\n",
    "for f in no_of_clusters:\n",
    "    kmeans = KMeans(n_clusters=f, random_state=2)\n",
    "    kmeans = kmeans.fit(X_train)\n",
    "    u = kmeans.inertia_\n",
    "    inertia.append(u)\n",
    "    print(\"The innertia for :\", f, \"Clusters is:\", u)"
   ]
  },
  {
   "cell_type": "code",
   "execution_count": null,
   "metadata": {
    "colab": {
     "base_uri": "https://localhost:8080/",
     "height": 424
    },
    "id": "BLvwF0n-qDtv",
    "outputId": "fb5beb94-3483-4455-e7ba-f96f485a23be"
   },
   "outputs": [],
   "source": [
    "# Creating the scree plot for Intertia - elbow method\n",
    "fig, (ax1) = plt.subplots(1, figsize=(16,6))\n",
    "xx = np.arange(len(no_of_clusters))\n",
    "ax1.plot(xx, inertia)\n",
    "ax1.set_xticks(xx)\n",
    "ax1.set_xticklabels(no_of_clusters, rotation='vertical')\n",
    "\n",
    "plt.xlabel('Number of clusters')\n",
    "plt.ylabel('Inertia Score')\n",
    "plt.title(\"Inertia Plot per k\")"
   ]
  },
  {
   "cell_type": "code",
   "execution_count": null,
   "metadata": {
    "colab": {
     "base_uri": "https://localhost:8080/",
     "height": 81
    },
    "id": "_WWB5S0gt6vT",
    "outputId": "6fc5e5a5-00e3-4f28-a85e-3351660fa419"
   },
   "outputs": [],
   "source": [
    "# Running K means on 5 clusters\n",
    "\n",
    "kmeans = KMeans(n_clusters=5, random_state=2)\n",
    "kmeans = kmeans.fit(X_train)\n",
    "\n",
    "\n",
    "kmeans.labels_\n",
    "\n",
    "# \"predictions\" for new data\n",
    "predictions = kmeans.predict(X_train)\n",
    "\n",
    "# calculating the Counts of the cluster\n",
    "unique, counts = np.unique(predictions, return_counts=True)\n",
    "counts = counts.reshape(1,5)\n",
    "\n",
    "# Creating a dataframe\n",
    "countscldf = pd.DataFrame(counts, columns = [\"Cluster 0\",\"Cluster 1\",\"Cluster 2\", \"Cluster 3\",\"Cluster 4\"])\n",
    "\n",
    "# display\n",
    "countscldf"
   ]
  },
  {
   "cell_type": "markdown",
   "metadata": {
    "id": "7XqvjPtZw1Rj"
   },
   "source": [
    "kmeans.labels_ is same as 'predictions'"
   ]
  },
  {
   "cell_type": "code",
   "execution_count": null,
   "metadata": {
    "colab": {
     "base_uri": "https://localhost:8080/"
    },
    "id": "xjexQNO3wv_k",
    "outputId": "9261a4a0-8507-461c-f8fa-d0ec506fab24"
   },
   "outputs": [],
   "source": [
    "kmeans.labels_"
   ]
  },
  {
   "cell_type": "code",
   "execution_count": null,
   "metadata": {
    "colab": {
     "base_uri": "https://localhost:8080/"
    },
    "id": "5MbGFV9uw8Vb",
    "outputId": "8eff809a-4aa6-4e52-cbf4-4cada659f607"
   },
   "outputs": [],
   "source": [
    "predictions"
   ]
  },
  {
   "cell_type": "code",
   "execution_count": null,
   "metadata": {
    "colab": {
     "base_uri": "https://localhost:8080/",
     "height": 534
    },
    "id": "4bbMfy676aCG",
    "outputId": "94187f54-e6dd-4e0b-c7d1-871327e876d8"
   },
   "outputs": [],
   "source": [
    "# Running PCA to Visualize the data\n",
    "\n",
    "from sklearn.decomposition import PCA\n",
    "from sklearn.discriminant_analysis import LinearDiscriminantAnalysis\n",
    "\n",
    "X = X_train\n",
    "y_num = predictions\n",
    "\n",
    "target_names = [\"Cluster 0\",\"Cluster 1\",\"Cluster 2\", \"Cluster 3\",\"Cluster 4\"]\n",
    "\n",
    "pca = PCA(n_components=2, random_state = 453)\n",
    "X_r = pca.fit(X).transform(X)\n",
    "\n",
    "\n",
    "# Percentage of variance explained for each components\n",
    "print('Explained variance ratio (first two components): %s' % str(pca.explained_variance_ratio_))\n",
    "\n",
    "# Plotting the data\n",
    "plt.figure()\n",
    "plt.figure(figsize=(12,8))\n",
    "colors = ['navy', 'turquoise', 'darkorange', 'red', 'black']\n",
    "lw = 2\n",
    "\n",
    "\n",
    "for color, i, target_name in zip(colors, [0, 1, 2, 3, 4], target_names):\n",
    "    plt.scatter(X_r[y_num == i, 0], X_r[y_num == i, 1], color=color, alpha=.8, lw=lw,label=target_name)\n",
    "    \n",
    "plt.legend(loc='best', shadow=False, scatterpoints=1)\n",
    "plt.legend(bbox_to_anchor=(1.05, 1), loc=2, borderaxespad=0.6)   \n",
    "plt.title('PCA of 2 Items')\n",
    "plt.show()"
   ]
  },
  {
   "cell_type": "markdown",
   "metadata": {
    "id": "5urCNn0o-uRs"
   },
   "source": [
    "By maximizing between cluster variance, you minimize within-cluster variance. Therefore, applying PCA before clustering could potentially help you get better clusters (with more variance) in Kmeans"
   ]
  },
  {
   "cell_type": "code",
   "execution_count": null,
   "metadata": {
    "id": "MwO61QWm-w2K"
   },
   "outputs": [],
   "source": []
  },
  {
   "cell_type": "markdown",
   "metadata": {
    "id": "skCE5o64-0bn"
   },
   "source": [
    "# **Identifying the \"best\" number of components**"
   ]
  },
  {
   "cell_type": "code",
   "execution_count": null,
   "metadata": {
    "colab": {
     "base_uri": "https://localhost:8080/",
     "height": 707
    },
    "id": "BNSDp7NG-5ZB",
    "outputId": "7a5de25a-daed-4f99-ead6-611f3e5b0b7a"
   },
   "outputs": [],
   "source": [
    "# Trying with Dimentionality reduction and then Kmeans\n",
    "\n",
    "n_components = X.shape[1]\n",
    "\n",
    "# Running PCA with all components\n",
    "\n",
    "pca = PCA(n_components=n_components, random_state = 453)\n",
    "X_r = pca.fit(X).transform(X)\n",
    "\n",
    "\n",
    "# Calculating the 95% Variance\n",
    "total_variance = sum(pca.explained_variance_)\n",
    "print(\"Total Variance in our dataset is: \", total_variance)\n",
    "var_95 = total_variance * 0.95\n",
    "print(\"The 95% variance we want to have is: \", var_95)\n",
    "print(\"\")\n",
    "\n",
    "# Creating a df with the components and explained variance\n",
    "a = zip(range(0,n_components), pca.explained_variance_)\n",
    "a = pd.DataFrame(a, columns=[\"PCA Comp\", \"Explained Variance\"])\n",
    "\n",
    "# Trying to hit 95%\n",
    "print(\"Variance explain with 30 n_compononets: \", sum(a[\"Explained Variance\"][0:30]))\n",
    "print(\"Variance explain with 35 n_compononets: \", sum(a[\"Explained Variance\"][0:35]))\n",
    "print(\"Variance explain with 40 n_compononets: \", sum(a[\"Explained Variance\"][0:40]))\n",
    "print(\"Variance explain with 41 n_compononets: \", sum(a[\"Explained Variance\"][0:41]))\n",
    "print(\"Variance explain with 50 n_compononets: \", sum(a[\"Explained Variance\"][0:50]))\n",
    "print(\"Variance explain with 53 n_compononets: \", sum(a[\"Explained Variance\"][0:53]))\n",
    "print(\"Variance explain with 55 n_compononets: \", sum(a[\"Explained Variance\"][0:55]))\n",
    "print(\"Variance explain with 60 n_compononets: \", sum(a[\"Explained Variance\"][0:60]))\n",
    "\n",
    "# Plotting the Data\n",
    "plt.figure(1, figsize=(14, 8))\n",
    "plt.plot(pca.explained_variance_ratio_, linewidth=2, c=\"r\")\n",
    "plt.xlabel('n_components')\n",
    "plt.ylabel('explained_ratio_')\n",
    "\n",
    "# Plotting line with 95% e.v.\n",
    "plt.axvline(53,linestyle=':', label='n_components - 95% explained', c =\"blue\")\n",
    "plt.legend(prop=dict(size=12))\n",
    "\n",
    "# adding arrow\n",
    "plt.annotate('53 eigenvectors used to explain 95% variance', xy=(53, pca.explained_variance_ratio_[53]), \n",
    "             xytext=(58, pca.explained_variance_ratio_[10]),\n",
    "            arrowprops=dict(facecolor='blue', shrink=0.05))"
   ]
  },
  {
   "cell_type": "code",
   "execution_count": null,
   "metadata": {
    "colab": {
     "base_uri": "https://localhost:8080/",
     "height": 738
    },
    "id": "N0CNajhoAPUC",
    "outputId": "3d9d60e7-e949-4684-caf5-a26f970ab0b9"
   },
   "outputs": [],
   "source": [
    "# Running PCA again\n",
    "\n",
    "pca = PCA(n_components=53, random_state = 453)\n",
    "X_r = pca.fit(X).transform(X)\n",
    "\n",
    "inertia = []\n",
    "\n",
    "#running Kmeans\n",
    "\n",
    "for f in no_of_clusters:\n",
    "    kmeans = KMeans(n_clusters=f, random_state=2)\n",
    "    kmeans = kmeans.fit(X_r)\n",
    "    u = kmeans.inertia_\n",
    "    inertia.append(u)\n",
    "    print(\"The innertia for :\", f, \"Clusters is:\", u)\n",
    "\n",
    "# Creating the scree plot for Intertia - elbow method\n",
    "fig, (ax1) = plt.subplots(1, figsize=(16,6))\n",
    "xx = np.arange(len(no_of_clusters))\n",
    "ax1.plot(xx, inertia)\n",
    "ax1.set_xticks(xx)\n",
    "ax1.set_xticklabels(no_of_clusters, rotation='vertical')\n",
    "plt.xlabel('n_components Value')\n",
    "plt.ylabel('Inertia Score')\n",
    "plt.title(\"Inertia Plot per k\")"
   ]
  },
  {
   "cell_type": "markdown",
   "metadata": {
    "id": "TnWp1lZeAeYw"
   },
   "source": [
    "**Conclusion:**\n",
    "We managed to improve our results by reducing inertia"
   ]
  },
  {
   "cell_type": "code",
   "execution_count": null,
   "metadata": {
    "id": "UAhiA8IcF-gn"
   },
   "outputs": [],
   "source": []
  },
  {
   "cell_type": "code",
   "execution_count": null,
   "metadata": {
    "id": "aAI_zjl4AY9U"
   },
   "outputs": [],
   "source": []
  },
  {
   "cell_type": "markdown",
   "metadata": {
    "id": "VWIf_oQvifET"
   },
   "source": [
    "**Another way of \"Improving\" results Could be to Clean/Combine Variable**"
   ]
  },
  {
   "cell_type": "code",
   "execution_count": null,
   "metadata": {
    "colab": {
     "base_uri": "https://localhost:8080/"
    },
    "id": "LDPOLK6DilHv",
    "outputId": "7a8f01f7-c7af-42b8-debc-4a616ea16e03"
   },
   "outputs": [],
   "source": [
    "# Visualizing all of your variables / columns\n",
    "new_raw.columns"
   ]
  },
  {
   "cell_type": "code",
   "execution_count": null,
   "metadata": {
    "colab": {
     "base_uri": "https://localhost:8080/"
    },
    "id": "vq27rReArzxz",
    "outputId": "85dc1755-00ae-4160-c1b6-bef8f8e72ac4"
   },
   "outputs": [],
   "source": [
    "# CLEAN/COMBINE VARIABLES TO IMPROVE RESULTS \n",
    "print(\"The shape is: \", new_raw.shape)\n",
    "\n",
    "# Cleaning the \"how_often_you_attend_entertaining_events_in_a_year\" column\n",
    "\n",
    "# 1-2 times\n",
    "new_raw['how_often_you_attend_entertaining_events_in_a_year_1_or_2_times'] = 0\n",
    "new_raw['how_often_you_attend_entertaining_events_in_a_year_1_or_2_times'][(new_raw['How often you attend Entertaining events in a year?_1 Times a Year'] == 1) |     (new_raw['How often you attend Entertaining events in a year?_2 Times a Year'] == 1)] = 1\n",
    "\n",
    "\n",
    "\n",
    "# 4-5 times\n",
    "new_raw['how_often_you_attend_entertaining_events_in_a_year_4_or_5_times'] = 0\n",
    "new_raw['how_often_you_attend_entertaining_events_in_a_year_4_or_5_times'][(new_raw['How often you attend Entertaining events in a year?_4 Times a Year'] == 1) | (new_raw['How often you attend Entertaining events in a year?_5+ Times a Year'] == 1)] = 1\n",
    "\n",
    "print(\"The shape is: \", new_raw.shape)\n",
    "\n",
    "\n",
    "\n",
    "\n",
    "# Cleaning the \"how_many_hours_are_you_willing_to_travel_to_attend_an_event_1 hour\" column\n",
    "\n",
    "# 1 to 2 hours\n",
    "new_raw['how_many_hours_are_you_willing_to_travel_to_attend_an_event 1 to 2 hours'] = 0\n",
    "new_raw['how_many_hours_are_you_willing_to_travel_to_attend_an_event 1 to 2 hours'][(new_raw['How many hours are you willing to travel to attend an event?_1 hour'] == 1) | (new_raw['How many hours are you willing to travel to attend an event?_2 hours'] == 1)] = 1\n",
    "\n",
    "# 3 to 4 hours\n",
    "new_raw['how_many_hours_are_you_willing_to_travel_to_attend_an_event 3 to 4 hours'] = 0\n",
    "new_raw['how_many_hours_are_you_willing_to_travel_to_attend_an_event 3 to 4 hours'][(new_raw['How many hours are you willing to travel to attend an event?_3 hours'] == 1) | (new_raw['How many hours are you willing to travel to attend an event?_4 hours'] == 1)] = 1\n",
    "\n",
    "# 5 to 6 hours\n",
    "new_raw['how_many_hours_are_you_willing_to_travel_to_attend_an_event 5 to 6 hours'] = 0\n",
    "new_raw['how_many_hours_are_you_willing_to_travel_to_attend_an_event 5 to 6 hours'][(new_raw['How many hours are you willing to travel to attend an event?_5 hours'] == 1) | (new_raw['How many hours are you willing to travel to attend an event?_6 hours plus'] == 1)] = 1\n",
    "\n",
    "print(\"The shape is: \", new_raw.shape)\n",
    "\n",
    "\n",
    "# Cleaning the \"do_you_enjoy_adrenaline_rush_activities\" column\n",
    "\n",
    "# Mostly & Somewhat Agree\n",
    "new_raw['do_you_enjoy_adrenaline_rush_activities Mostly & Somewhat Agree'] = 0\n",
    "new_raw['do_you_enjoy_adrenaline_rush_activities Mostly & Somewhat Agree'][(new_raw['Do you enjoy adrenaline-rush activities?_Somewhat agree'] == 1) | (new_raw['Do you enjoy adrenaline-rush activities?_Mostly agree'] == 1)] = 1\n",
    "\n",
    "# Mostly & Somewhat Disagree\n",
    "new_raw['do_you_enjoy_adrenaline_rush_activities Mostly & Somewhat Disagree'] = 0\n",
    "new_raw['do_you_enjoy_adrenaline_rush_activities Mostly & Somewhat Disagree'][(new_raw['Do you enjoy adrenaline-rush activities?_Somewhat disagree'] == 1) | (new_raw['Do you enjoy adrenaline-rush activities?_Mostly disagree'] == 1)] = 1\n",
    "\n",
    "print(\"The shape is: \", new_raw.shape)\n",
    "\n",
    "\n",
    "# Cleaning the \"social_media\" column\n",
    "\n",
    "# half a day + more than half a day\n",
    "new_raw['social_media_Half a day plus'] = 0\n",
    "new_raw['social_media_Half a day plus'][(new_raw['Social_Media_Half a day'] == 1) | (new_raw['Social_Media_More than half a day'] == 1)] = 1\n",
    "\n",
    "print(\"The shape is: \", new_raw.shape)"
   ]
  },
  {
   "cell_type": "code",
   "execution_count": null,
   "metadata": {
    "colab": {
     "base_uri": "https://localhost:8080/"
    },
    "id": "APxRx-ODA8LW",
    "outputId": "d13a0005-cffb-4068-da2d-bfdbabf7a1a6"
   },
   "outputs": [],
   "source": [
    "# Cleaning the \"are_food_areas_coffee_areas_bars_toilets_important_to_you\" column\n",
    "\n",
    "# Mostly & Somewhat Agree\n",
    "new_raw['are_food_areas_coffee_areas_bars_toilets_important_to_you Mostly & Somewhat Agree'] = 0\n",
    "new_raw['are_food_areas_coffee_areas_bars_toilets_important_to_you Mostly & Somewhat Agree'][(new_raw['Are food areas, coffee areas, bars & toilets important to you?_Mostly agree'] == 1) | (new_raw['Are food areas, coffee areas, bars & toilets important to you?_Somewhat disagree'] == 1)] = 1\n",
    "\n",
    "\n",
    "# Mostly & Somewhat & entirely Disagree\n",
    "new_raw['are_food_areas_coffee_areas_bars_toilets_important_to_you - Mostly & Somewhat & entirely Disagree'] = 0\n",
    "new_raw['are_food_areas_coffee_areas_bars_toilets_important_to_you - Mostly & Somewhat & entirely Disagree'][(new_raw['Are food areas, coffee areas, bars & toilets important to you?_Entirely disagree'] == 1) | (new_raw['Are food areas, coffee areas, bars & toilets important to you?_Mostly disagree'] == 1) | (new_raw['Are food areas, coffee areas, bars & toilets important to you?_Somewhat disagree'] == 1)] = 1\n",
    "\n",
    "print(\"The shape is: \", new_raw.shape)\n",
    "\n",
    "\n",
    "\n",
    "# Cleaning the \"were_you_satisfied_with_the_last_event_you_attended_with_us\" column\n",
    "\n",
    "# Entirely & Mostly & Somewhat & Neither Disagree\n",
    "new_raw['were_you_satisfied_with_the_last_event_you_attended_with_us Entirely & Mostly & Somewhat & Neither Disagree'] = 0\n",
    "new_raw['were_you_satisfied_with_the_last_event_you_attended_with_us Entirely & Mostly & Somewhat & Neither Disagree'][(new_raw['Were you satisfied with the last event you attended with us?_Entirely disagree'] == 1) | (new_raw['Were you satisfied with the last event you attended with us?_Mostly disagree'] == 1) | (new_raw['Were you satisfied with the last event you attended with us?_Somewhat disagree'] == 1) | (new_raw['Were you satisfied with the last event you attended with us?_Neither agree nor disagree'] == 1)] = 1\n",
    "\n",
    "print(\"The shape is: \", new_raw.shape)\n",
    "\n",
    "# Cleaning the \"would_you_recommend_our_events_to_other_people\" column\n",
    "\n",
    "# Mostly & Somewhat & Neither Unlikely\n",
    "new_raw['would_you_recommend_our_events_to_other_people Mostly & Somewhat & Neither Unlikely'] = 0\n",
    "new_raw['would_you_recommend_our_events_to_other_people Mostly & Somewhat & Neither Unlikely'][(new_raw['Would you recommend our events to other people?_Mostly Unlikely'] == 1) | (new_raw['Would you recommend our events to other people?_Somewhat Unlikely'] == 1) | (new_raw['Would you recommend our events to other people?_Neither agree nor disagree'] == 1)] = 1\n",
    "\n",
    "print(\"The shape is: \", new_raw.shape)\n",
    "\n",
    "\n",
    "# Cleaning the \"did_you_find_our_events_value_for_money\" column\n",
    "\n",
    "# Mostly & Somewhat agree\n",
    "new_raw['did_you_find_our_events_value_for_money Mostly & Somewhat agree'] = 0\n",
    "new_raw['did_you_find_our_events_value_for_money Mostly & Somewhat agree'][(new_raw['Did you find our events value for money?_Somewhat agree'] == 1) | (new_raw['Did you find our events value for money?_Mostly agree'] == 1)] = 1\n",
    "\n",
    "print(\"The shape is: \", new_raw.shape)"
   ]
  },
  {
   "cell_type": "code",
   "execution_count": null,
   "metadata": {
    "colab": {
     "base_uri": "https://localhost:8080/",
     "height": 334
    },
    "id": "NjHHi9Ty9WMn",
    "outputId": "72f753ad-7d3f-45ca-f29d-e8d8fe886a3e"
   },
   "outputs": [],
   "source": [
    "new_raw.head()"
   ]
  },
  {
   "cell_type": "code",
   "execution_count": null,
   "metadata": {
    "id": "Ce5I06C7rX04"
   },
   "outputs": [],
   "source": [
    "# Replacing apostrophe from columns names\n",
    "new_raw.columns = new_raw.columns.str.replace(\"'\",\"\")\n",
    "\n",
    "\n",
    "#Excluding the fields we have merged together\n",
    "new_features = ['Age_17 or younger', 'Age_18-20', 'Age_21-25', 'Age_26-32', 'Age_33-39',\n",
    "       'Age_40-49', 'Age_50-59', 'Age_60-64', 'Age_65 or older',\n",
    "       'Gender_Female', 'Gender_Male', 'Current_Status_Divorced',\n",
    "       'Current_Status_Living with partner',\n",
    "       'Current_Status_Married with children',\n",
    "       'Current_Status_Married without children', 'Current_Status_Separated',\n",
    "       'Current_Status_Single, never married', 'Current_Status_Step parent',\n",
    "       'Current_Status_Widowed', 'Total_Household_Income_100,000 to 149,999',\n",
    "       'Total_Household_Income_150,000 to 199,999',\n",
    "       'Total_Household_Income_20,000 to 34,999',\n",
    "       'Total_Household_Income_200,000 or more',\n",
    "       'Total_Household_Income_35,000 to 49,999',\n",
    "       'Total_Household_Income_50,000 to 74,999',\n",
    "       'Total_Household_Income_75,000 to 99,999',\n",
    "       'Total_Household_Income_Less than 20,000',\n",
    "       #'How often you attend Entertaining events in a year?_1 Times a Year',\n",
    "       #'How often you attend Entertaining events in a year?_2 Times a Year',\n",
    "       'How often you attend Entertaining events in a year?_3 Times a Year',\n",
    "      # 'How often you attend Entertaining events in a year?_4 Times a Year',\n",
    "      # 'How often you attend Entertaining events in a year?_5+ Times a Year',\n",
    "       #'Social_Media_Half a day', \n",
    "       'Social_Media_I dont spend any time at all',\n",
    "       #'Social_Media_More than half a day',\n",
    "        'Social_Media_Up to 1 hour',\n",
    "       'Social_Media_Up to 2 hours',\n",
    " \n",
    "       #'How many hours are you willing to travel to attend an event?_1 hour',\n",
    "       #'How many hours are you willing to travel to attend an event?_2 hours',\n",
    "       #'How many hours are you willing to travel to attend an event?_3 hours',\n",
    "       #'How many hours are you willing to travel to attend an event?_4 hours',\n",
    "       #'How many hours are you willing to travel to attend an event?_5 hours',\n",
    "       #'How many hours are you willing to travel to attend an event?_6 hours plus',\n",
    " \n",
    "       'How many hours are you willing to travel to attend an event?_Depends from the Event',\n",
    " \n",
    "       'Do you enjoy adrenaline-rush activities?_Entirely agree',\n",
    "       'Do you enjoy adrenaline-rush activities?_Entirely disagree',\n",
    "       #'Do you enjoy adrenaline-rush activities?_Mostly agree',\n",
    "       #'Do you enjoy adrenaline-rush activities?_Mostly disagree',\n",
    "       'Do you enjoy adrenaline-rush activities?_Neither agree nor disagree',\n",
    "       #'Do you enjoy adrenaline-rush activities?_Somewhat agree',\n",
    "       #'Do you enjoy adrenaline-rush activities?_Somewhat disagree',\n",
    " \n",
    "       'Are food areas, coffee areas, bars & toilets important to you?_Entirely agree',\n",
    "       #'Are food areas, coffee areas, bars & toilets important to you?_Entirely disagree',\n",
    "       #'Are food areas, coffee areas, bars & toilets important to you?_Mostly agree',\n",
    "       #'Are food areas, coffee areas, bars & toilets important to you?_Mostly disagree',\n",
    "       'Are food areas, coffee areas, bars & toilets important to you?_Neither agree nor disagree',\n",
    "       #'Are food areas, coffee areas, bars & toilets important to you?_Somewhat agree',\n",
    "       #'Are food areas, coffee areas, bars & toilets important to you?_Somewhat disagree',\n",
    " \n",
    "       'What is your favourite attraction from below:_Crazy rollercoaster ride',\n",
    "       'What is your favourite attraction from below:_Happy Rollercoaster',\n",
    "       'What is your favourite attraction from below:_Ice Bar',\n",
    "       'What is your favourite attraction from below:_Ice skating',\n",
    "       'What is your favourite attraction from below:_Kids Playground',\n",
    "       'What is your favourite attraction from below:_Tree climbing',\n",
    "       'What is your favourite attraction from below:_Wooden Bar',\n",
    " \n",
    "       'Were you satisfied with the last event you attended with us?_Entirely agree',\n",
    "       #'Were you satisfied with the last event you attended with us?_Entirely disagree',\n",
    "       'Were you satisfied with the last event you attended with us?_Mostly agree',\n",
    "       #'Were you satisfied with the last event you attended with us?_Mostly disagree',\n",
    "       #'Were you satisfied with the last event you attended with us?_Neither agree nor disagree',\n",
    "       'Were you satisfied with the last event you attended with us?_Somewhat agree',\n",
    "       #'Were you satisfied with the last event you attended with us?_Somewhat disagree',\n",
    " \n",
    "       'Would you recommend our events to other people?_Mostly Likely',\n",
    "       #'Would you recommend our events to other people?_Mostly Unlikely',\n",
    "       #'Would you recommend our events to other people?_Neither agree nor disagree',\n",
    "       'Would you recommend our events to other people?_Somewhat Likely',\n",
    "       #'Would you recommend our events to other people?_Somewhat Unlikely',\n",
    "       'Would you recommend our events to other people?_Very Likely',\n",
    "       'Would you recommend our events to other people?_Very Unlikely',\n",
    " \n",
    "       'Did you find our events value for money?_Entirely agree',\n",
    "       'Did you find our events value for money?_Entirely disagree',\n",
    "       #'Did you find our events value for money?_Mostly agree',\n",
    "       'Did you find our events value for money?_Mostly disagree',\n",
    "       'Did you find our events value for money?_Neither agree nor disagree',\n",
    "       #'Did you find our events value for money?_Somewhat agree',\n",
    "       'Did you find our events value for money?_Somewhat disagree',\n",
    "      'how_often_you_attend_entertaining_events_in_a_year_1_or_2_times',\n",
    "       'how_often_you_attend_entertaining_events_in_a_year_4_or_5_times',\n",
    "                \n",
    "       'social_media_Half a day plus',\n",
    "                \n",
    "       'how_many_hours_are_you_willing_to_travel_to_attend_an_event 1 to 2 hours',\n",
    "       'how_many_hours_are_you_willing_to_travel_to_attend_an_event 3 to 4 hours',\n",
    "       'how_many_hours_are_you_willing_to_travel_to_attend_an_event 5 to 6 hours',\n",
    "                \n",
    "       'do_you_enjoy_adrenaline_rush_activities Mostly & Somewhat Agree',\n",
    "       'do_you_enjoy_adrenaline_rush_activities Mostly & Somewhat Disagree',\n",
    "                \n",
    "       'are_food_areas_coffee_areas_bars_toilets_important_to_you Mostly & Somewhat Agree',\n",
    "       'are_food_areas_coffee_areas_bars_toilets_important_to_you - Mostly & Somewhat & entirely Disagree',\n",
    "                \n",
    "       'were_you_satisfied_with_the_last_event_you_attended_with_us Entirely & Mostly & Somewhat & Neither Disagree',\n",
    "                \n",
    "       'would_you_recommend_our_events_to_other_people Mostly & Somewhat & Neither Unlikely',\n",
    "                \n",
    "       'did_you_find_our_events_value_for_money Mostly & Somewhat agree']"
   ]
  },
  {
   "cell_type": "code",
   "execution_count": null,
   "metadata": {
    "colab": {
     "base_uri": "https://localhost:8080/",
     "height": 755
    },
    "id": "tejb2rNJrCwu",
    "outputId": "61ade24f-7f42-4c29-cbad-cb9245347a5f"
   },
   "outputs": [],
   "source": [
    "# Re - Running Kmeans on \"new\" data\n",
    "\n",
    "X_train = new_raw[new_features].values\n",
    "\n",
    "# Running K means with multible Ks\n",
    "\n",
    "no_of_clusters = range(2,21) #[2,3,4,5,6,7,8,9]\n",
    "inertia = []\n",
    "\n",
    "\n",
    "for f in no_of_clusters:\n",
    "    kmeans = KMeans(n_clusters=f, random_state=2)\n",
    "    kmeans = kmeans.fit(X_train)\n",
    "    u = kmeans.inertia_\n",
    "    inertia.append(u)\n",
    "    print(\"The innertia for :\", f, \"Clusters is:\", u)\n",
    "\n",
    "    \n",
    "# Creating the scree plot for Intertia - elbow method\n",
    "fig, (ax1) = plt.subplots(1, figsize=(16,6))\n",
    "xx = np.arange(len(no_of_clusters))\n",
    "ax1.plot(xx, inertia)\n",
    "ax1.set_xticks(xx)\n",
    "ax1.set_xticklabels(no_of_clusters, rotation='vertical')\n",
    "plt.xlabel('n_components Value')\n",
    "plt.ylabel('Inertia Score')\n",
    "plt.title(\"Inertia Plot per k\")"
   ]
  },
  {
   "cell_type": "code",
   "execution_count": null,
   "metadata": {
    "id": "p5fsjwLszixM"
   },
   "outputs": [],
   "source": []
  },
  {
   "cell_type": "markdown",
   "metadata": {
    "id": "Mz8Nqef28G7v"
   },
   "source": [
    "**Conclusion:**\n",
    "The intertia improved vs the initial run before PCA and Vs the PCA run - Now we want to apply both"
   ]
  },
  {
   "cell_type": "markdown",
   "metadata": {
    "id": "Nc8IvqmJOV0-"
   },
   "source": [
    "**Running PCA on New Dataset after grouping**"
   ]
  },
  {
   "cell_type": "code",
   "execution_count": null,
   "metadata": {
    "id": "WD6g57bHORyr"
   },
   "outputs": [],
   "source": []
  },
  {
   "cell_type": "code",
   "execution_count": null,
   "metadata": {
    "colab": {
     "base_uri": "https://localhost:8080/",
     "height": 534
    },
    "id": "nmMC1Otb8N-u",
    "outputId": "b34dd409-d91d-4e85-a7d6-cb9912be0b71"
   },
   "outputs": [],
   "source": [
    "# Running K means on 5 clusters\n",
    "\n",
    "kmeans = KMeans(n_clusters=5, random_state=2)\n",
    "kmeans = kmeans.fit(X_train)\n",
    "\n",
    "predictions = kmeans.predict(X_train)\n",
    "\n",
    "# Running PCA to Visualize the data\n",
    "\n",
    "from sklearn.decomposition import PCA\n",
    "from sklearn.discriminant_analysis import LinearDiscriminantAnalysis\n",
    "\n",
    "X = X_train\n",
    "y_num = predictions\n",
    "\n",
    "target_names = [\"Cluster 0\",\"Cluster 1\",\"Cluster 2\", \"Cluster 3\",\"Cluster 4\"]\n",
    "\n",
    "pca = PCA(n_components=2, random_state = 453)\n",
    "X_r = pca.fit(X).transform(X)\n",
    "\n",
    "\n",
    "# Percentage of variance explained for each components\n",
    "print('Explained variance ratio (first two components): %s' % str(pca.explained_variance_ratio_))\n",
    "\n",
    "# Plotting the data\n",
    "plt.figure()\n",
    "plt.figure(figsize=(12,8))\n",
    "colors = ['navy', 'turquoise', 'darkorange', 'red', 'black']\n",
    "lw = 2\n",
    "\n",
    "\n",
    "for color, i, target_name in zip(colors, [0, 1, 2, 3, 4], target_names):\n",
    "    plt.scatter(X_r[y_num == i, 0], X_r[y_num == i, 1], color=color, alpha=.8, lw=lw,label=target_name)\n",
    "    \n",
    "plt.legend(loc='best', shadow=False, scatterpoints=1)\n",
    "plt.legend(bbox_to_anchor=(1.05, 1), loc=2, borderaxespad=0.6)   \n",
    "plt.title('PCA of Items')\n",
    "plt.show()"
   ]
  },
  {
   "cell_type": "code",
   "execution_count": null,
   "metadata": {
    "id": "0hw_lhkROb7R"
   },
   "outputs": [],
   "source": []
  },
  {
   "cell_type": "code",
   "execution_count": null,
   "metadata": {
    "colab": {
     "base_uri": "https://localhost:8080/",
     "height": 654
    },
    "id": "Ho5Wf9BbOwD-",
    "outputId": "d8d8b9b2-87db-4afb-cb12-56a0b0d9a6e6"
   },
   "outputs": [],
   "source": [
    "# Trying with Dimentionality reduction and then Kmeans\n",
    "\n",
    "n_components = X.shape[1]\n",
    "\n",
    "# Running PCA with all components\n",
    "pca = PCA(n_components=n_components, random_state = 453)\n",
    "X_r = pca.fit(X).transform(X)\n",
    "\n",
    "\n",
    "# Calculating the 95% Variance\n",
    "total_variance = sum(pca.explained_variance_)\n",
    "print(\"Total Variance in our dataset is: \", total_variance)\n",
    "var_95 = total_variance * 0.95\n",
    "print(\"The 95% variance we want to have is: \", var_95)\n",
    "print(\"\")\n",
    "\n",
    "# Creating a df with the components and explained variance\n",
    "a = zip(range(0,n_components), pca.explained_variance_)\n",
    "a = pd.DataFrame(a, columns=[\"PCA Comp\", \"Explained Variance\"])\n",
    "\n",
    "# Trying to hit 95%\n",
    "print(\"Variance explain with 30 n_compononets: \", sum(a[\"Explained Variance\"][0:30]))\n",
    "print(\"Variance explain with 35 n_compononets: \", sum(a[\"Explained Variance\"][0:35]))\n",
    "print(\"Variance explain with 36 n_compononets: \", sum(a[\"Explained Variance\"][0:36]))\n",
    "print(\"Variance explain with 40 n_compononets: \", sum(a[\"Explained Variance\"][0:40]))\n",
    "print(\"Variance explain with 41 n_compononets: \", sum(a[\"Explained Variance\"][0:41]))\n",
    "print(\"Variance explain with 50 n_compononets: \", sum(a[\"Explained Variance\"][0:50]))\n",
    "\n",
    "# Plotting the Data\n",
    "plt.figure(1, figsize=(14, 8))\n",
    "plt.plot(pca.explained_variance_ratio_, linewidth=2, c=\"r\")\n",
    "plt.xlabel('n_components')\n",
    "plt.ylabel('explained_ratio_')\n",
    "\n",
    "# Plotting line with 95% e.v.\n",
    "plt.axvline(36,linestyle=':', label='n_components - 95% explained', c =\"blue\")\n",
    "plt.legend(prop=dict(size=12))\n",
    "\n",
    "# adding arrow\n",
    "plt.annotate('36 eigenvectors used to explain 95% variance', xy=(36, pca.explained_variance_ratio_[36]), xytext=(41, pca.explained_variance_ratio_[10]),\n",
    "            arrowprops=dict(facecolor='blue', shrink=0.05))\n",
    "\n",
    "plt.show()"
   ]
  },
  {
   "cell_type": "code",
   "execution_count": null,
   "metadata": {
    "colab": {
     "base_uri": "https://localhost:8080/",
     "height": 755
    },
    "id": "8poNCbItVkt9",
    "outputId": "1797c3c5-1bbd-4f0d-8a21-6679cd7ce231"
   },
   "outputs": [],
   "source": [
    "# Running PCA again\n",
    "\n",
    "pca = PCA(n_components=36, random_state = 453)\n",
    "X_r = pca.fit(X).transform(X)\n",
    "\n",
    "inertia = []\n",
    "\n",
    "#running Kmeans\n",
    "\n",
    "for f in no_of_clusters:\n",
    "    kmeans = KMeans(n_clusters=f, random_state=2)\n",
    "    kmeans = kmeans.fit(X_r)\n",
    "    u = kmeans.inertia_\n",
    "    inertia.append(u)\n",
    "    print(\"The innertia for :\", f, \"Clusters is:\", u)\n",
    "\n",
    "# Creating the scree plot for Intertia - elbow method\n",
    "fig, (ax1) = plt.subplots(1, figsize=(16,6))\n",
    "xx = np.arange(len(no_of_clusters))\n",
    "ax1.plot(xx, inertia)\n",
    "ax1.set_xticks(xx)\n",
    "ax1.set_xticklabels(no_of_clusters, rotation='vertical')\n",
    "plt.xlabel('n_components Value')\n",
    "plt.ylabel('Inertia Score')\n",
    "plt.title(\"Inertia Plot per k\")"
   ]
  },
  {
   "cell_type": "code",
   "execution_count": null,
   "metadata": {
    "id": "nQc5bTikWYGe"
   },
   "outputs": [],
   "source": []
  },
  {
   "cell_type": "markdown",
   "metadata": {
    "id": "O0bd72MCWZlf"
   },
   "source": [
    "**We managed to improve our results further more; from 91318 to 80676 with 5 clusters**"
   ]
  },
  {
   "cell_type": "code",
   "execution_count": null,
   "metadata": {
    "colab": {
     "base_uri": "https://localhost:8080/",
     "height": 681
    },
    "id": "zKuIOB2-Wdaj",
    "outputId": "e7e7fcd1-599b-4f27-bac0-b9dc96f99c40"
   },
   "outputs": [],
   "source": [
    "# Running PCA with 36 PC\n",
    "pca = PCA(n_components=36, random_state = 453)\n",
    "X_r = pca.fit(X).transform(X)\n",
    "\n",
    "# Running Kmeans with 5 Ks\n",
    "kmeans = KMeans(n_clusters=5, random_state=2)\n",
    "kmeans = kmeans.fit(X_r)\n",
    "\n",
    "clusters = kmeans.labels_\n",
    "\n",
    "# Attaching the clusters back to our initial Dataset that has all the data\n",
    "raw['Clusters'] = clusters\n",
    "\n",
    "# Creating a cluster Category\n",
    "raw['Clusters Category'] = 'No Data'\n",
    "raw['Clusters Category'].loc[raw['Clusters'] == 0] = 'Cluster 1'\n",
    "raw['Clusters Category'].loc[raw['Clusters'] == 1] = 'Cluster 2'\n",
    "raw['Clusters Category'].loc[raw['Clusters'] == 2] = 'Cluster 3'\n",
    "raw['Clusters Category'].loc[raw['Clusters'] == 3] = 'Cluster 4'\n",
    "raw['Clusters Category'].loc[raw['Clusters'] == 4] = 'Cluster 5'\n",
    "\n",
    "\n",
    "raw.head(5)"
   ]
  },
  {
   "cell_type": "code",
   "execution_count": null,
   "metadata": {
    "id": "Mee9Bh7Ah7H1"
   },
   "outputs": [],
   "source": []
  },
  {
   "cell_type": "code",
   "execution_count": null,
   "metadata": {
    "colab": {
     "base_uri": "https://localhost:8080/"
    },
    "id": "UXnsqiSRhjKL",
    "outputId": "a8fa171e-f652-4706-a7f2-0cb80b444483"
   },
   "outputs": [],
   "source": [
    "print(raw.shape)\n",
    "raw.columns"
   ]
  },
  {
   "cell_type": "code",
   "execution_count": null,
   "metadata": {
    "colab": {
     "base_uri": "https://localhost:8080/"
    },
    "id": "F-DPluUSATnE",
    "outputId": "01374dec-b4b2-4c98-97f8-3de10773cefc"
   },
   "outputs": [],
   "source": [
    "# Creating an order for Household Income\n",
    "\n",
    "raw['Household Income Order'] = 0\n",
    "raw['Household Income Order'].loc[raw['Total_Household_Income'] == 'Less than 20,000'] = 1\n",
    "raw['Household Income Order'].loc[raw['Total_Household_Income'] == '20,000 to 34,999'] = 2\n",
    "raw['Household Income Order'].loc[raw['Total_Household_Income'] == '35,000 to 49,999'] = 3\n",
    "raw['Household Income Order'].loc[raw['Total_Household_Income'] == '50,000 to 74,999'] = 4\n",
    "raw['Household Income Order'].loc[raw['Total_Household_Income'] == '75,000 to 99,999'] = 5\n",
    "raw['Household Income Order'].loc[raw['Total_Household_Income'] == '100,000 to 149,999'] = 6\n",
    "raw['Household Income Order'].loc[raw['Total_Household_Income'] == '150,000 to 199,999'] = 7\n",
    "raw['Household Income Order'].loc[raw['Total_Household_Income'] == '200,000 or more'] = 8\n"
   ]
  },
  {
   "cell_type": "code",
   "execution_count": null,
   "metadata": {
    "id": "lHlfz0bPFMRI"
   },
   "outputs": [],
   "source": [
    "# Replacing apostrophe from columns names\n",
    "raw['social_media'] = raw['Social_Media'].str.replace(\"'\",\"\")\n"
   ]
  },
  {
   "cell_type": "code",
   "execution_count": null,
   "metadata": {
    "id": "00tk97wmHEtK"
   },
   "outputs": [],
   "source": [
    "raw['Social Media Time Spend Order'] = 0\n",
    "raw['Social Media Time Spend Order'].loc[raw['Social_Media'] == 'I dont spend any time at all'] = 1\n",
    "raw['Social Media Time Spend Order'].loc[raw['Social_Media'] == 'Up to 1 hour'] = 2\n",
    "raw['Social Media Time Spend Order'].loc[raw['Social_Media'] == 'Up to 2 hours'] = 3\n",
    "raw['Social Media Time Spend Order'].loc[raw['Social_Media'] == 'Half a day'] = 4\n",
    "raw['Social Media Time Spend Order'].loc[raw['Social_Media'] == 'More than half a day'] = 5"
   ]
  },
  {
   "cell_type": "code",
   "execution_count": null,
   "metadata": {
    "id": "4iL1y5FQIZd9"
   },
   "outputs": [],
   "source": [
    "# Creating an order for food_areas_coffee_areas_bars_toilets that have Entirely Agree, etc..\n",
    "raw['food_areas_coffee_areas_bars_toilets Agree Order'] = 0\n",
    "raw['food_areas_coffee_areas_bars_toilets Agree Order'].loc[raw['Are food areas, coffee areas, bars & toilets important to you?'] == 'Entirely agree'] = 1\n",
    "raw['food_areas_coffee_areas_bars_toilets Agree Order'].loc[raw['Are food areas, coffee areas, bars & toilets important to you?'] == 'Mostly agree'] = 2\n",
    "raw['food_areas_coffee_areas_bars_toilets Agree Order'].loc[raw['Are food areas, coffee areas, bars & toilets important to you?'] == 'Somewhat agree'] = 3\n",
    "raw['food_areas_coffee_areas_bars_toilets Agree Order'].loc[raw['Are food areas, coffee areas, bars & toilets important to you?'] == 'Neither agree nor disagree'] = 4\n",
    "raw['food_areas_coffee_areas_bars_toilets Agree Order'].loc[raw['Are food areas, coffee areas, bars & toilets important to you?'] == 'Somewhat disagree'] = 5\n",
    "raw['food_areas_coffee_areas_bars_toilets Agree Order'].loc[raw['Are food areas, coffee areas, bars & toilets important to you?'] == 'Mostly disagree'] = 6\n",
    "raw['food_areas_coffee_areas_bars_toilets Agree Order'].loc[raw['Are food areas, coffee areas, bars & toilets important to you?'] == 'Entirely disagree'] = 7\n"
   ]
  },
  {
   "cell_type": "code",
   "execution_count": null,
   "metadata": {
    "id": "qcoodOJ3J1M0"
   },
   "outputs": [],
   "source": [
    "# Creating an order for do_you_enjoy_adrenaline_rush_activities\n",
    "raw['enjoy_adrenaline_rush_activities Agree Order'] = 0\n",
    "raw['enjoy_adrenaline_rush_activities Agree Order'].loc[raw['Do you enjoy adrenaline-rush activities?'] == 'Entirely agree'] = 1\n",
    "raw['enjoy_adrenaline_rush_activities Agree Order'].loc[raw['Do you enjoy adrenaline-rush activities?'] == 'Mostly agree'] = 2\n",
    "raw['enjoy_adrenaline_rush_activities Agree Order'].loc[raw['Do you enjoy adrenaline-rush activities?'] == 'Somewhat agree'] = 3\n",
    "raw['enjoy_adrenaline_rush_activities Agree Order'].loc[raw['Do you enjoy adrenaline-rush activities?'] == 'Neither agree nor disagree'] = 4\n",
    "raw['enjoy_adrenaline_rush_activities Agree Order'].loc[raw['Do you enjoy adrenaline-rush activities?'] == 'Somewhat disagree'] = 5\n",
    "raw['enjoy_adrenaline_rush_activities Agree Order'].loc[raw['Do you enjoy adrenaline-rush activities?'] == 'Mostly disagree'] = 6\n",
    "raw['enjoy_adrenaline_rush_activities Agree Order'].loc[raw['Do you enjoy adrenaline-rush activities?'] == 'Entirely disagree'] = 7"
   ]
  },
  {
   "cell_type": "code",
   "execution_count": null,
   "metadata": {
    "id": "3I8PiVLSN07g"
   },
   "outputs": [],
   "source": [
    "# Creating an order for were_you_satisfied_with_the_last_event_you_attended_with_us\n",
    "raw['Satisfied Agree Order'] = 0\n",
    "raw['Satisfied Agree Order'].loc[raw['Were you satisfied with the last event you attended with us?'] == 'Entirely agree'] = 1\n",
    "raw['Satisfied Agree Order'].loc[raw['Were you satisfied with the last event you attended with us?'] == 'Mostly agree'] = 2\n",
    "raw['Satisfied Agree Order'].loc[raw['Were you satisfied with the last event you attended with us?'] == 'Somewhat agree'] = 3\n",
    "raw['Satisfied Agree Order'].loc[raw['Were you satisfied with the last event you attended with us?'] == 'Neither agree nor disagree'] = 4\n",
    "raw['Satisfied Agree Order'].loc[raw['Were you satisfied with the last event you attended with us?'] == 'Somewhat disagree'] = 5\n",
    "raw['Satisfied Agree Order'].loc[raw['Were you satisfied with the last event you attended with us?'] == 'Mostly disagree'] = 6\n",
    "raw['Satisfied Agree Order'].loc[raw['Were you satisfied with the last event you attended with us?'] == 'Entirely disagree'] = 7\n",
    "\n",
    "\n",
    "# Creating an order for did_you_find_our_events_value_for_money\n",
    "raw['Value_for_money Agree Order'] = 0\n",
    "raw['Value_for_money Agree Order'].loc[raw['Did you find our events value for money?'] == 'Entirely agree'] = 1\n",
    "raw['Value_for_money Agree Order'].loc[raw['Did you find our events value for money?'] == 'Mostly Likely'] = 2\n",
    "raw['Value_for_money Agree Order'].loc[raw['Did you find our events value for money?'] == 'Somewhat Likely'] = 3\n",
    "raw['Value_for_money Agree Order'].loc[raw['Did you find our events value for money?'] == 'Neither agree nor disagree'] = 4\n",
    "raw['Value_for_money Agree Order'].loc[raw['Did you find our events value for money?'] == 'Somewhat disagree'] = 5\n",
    "raw['Value_for_money Agree Order'].loc[raw['Did you find our events value for money?'] == 'Mostly disagree'] = 6\n",
    "raw['Value_for_money Agree Order'].loc[raw['Did you find our events value for money?'] == 'Entirely disagree'] = 7\n",
    "\n",
    "\n",
    "\n",
    "\n",
    "# Creating an order for would_you_recommend_our_events_to_other_people\n",
    "raw['Recommend Order'] = 0\n",
    "raw['Recommend Order'].loc[raw['Would you recommend our events to other people?'] == 'Very Likely'] = 1\n",
    "raw['Recommend Order'].loc[raw['Would you recommend our events to other people?'] == 'Mostly Likely'] = 2\n",
    "raw['Recommend Order'].loc[raw['Would you recommend our events to other people?'] == 'Somewhat Likely'] = 3\n",
    "raw['Recommend Order'].loc[raw['Would you recommend our events to other people?'] == 'Neither agree nor disagree'] = 4\n",
    "raw['Recommend Order'].loc[raw['Would you recommend our events to other people?'] == 'Somewhat Unlikely'] = 5\n",
    "raw['Recommend Order'].loc[raw['Would you recommend our events to other people?'] == 'Mostly Unlikely'] = 6\n",
    "raw['Recommend Order'].loc[raw['Would you recommend our events to other people?'] == 'Very Unlikely'] = 7\n"
   ]
  },
  {
   "cell_type": "code",
   "execution_count": null,
   "metadata": {
    "id": "pKiesBQ1UwAO"
   },
   "outputs": [],
   "source": [
    "# Exporting the data in a CSV\n",
    "\n",
    "raw.to_csv('Events_Cluster_Output', sep='\\t')"
   ]
  },
  {
   "cell_type": "code",
   "execution_count": null,
   "metadata": {
    "colab": {
     "base_uri": "https://localhost:8080/",
     "height": 456
    },
    "id": "cxXoFaxtU5dp",
    "outputId": "f18fd10d-9229-4b0a-b6b9-82d1e4a6cfa7"
   },
   "outputs": [],
   "source": [
    "raw.head()"
   ]
  },
  {
   "cell_type": "markdown",
   "metadata": {
    "id": "Cxh35YHCG_rE"
   },
   "source": []
  }
 ],
 "metadata": {
  "colab": {
   "provenance": []
  },
  "kernelspec": {
   "display_name": "Python 3",
   "language": "python",
   "name": "python3"
  },
  "language_info": {
   "codemirror_mode": {
    "name": "ipython",
    "version": 3
   },
   "file_extension": ".py",
   "mimetype": "text/x-python",
   "name": "python",
   "nbconvert_exporter": "python",
   "pygments_lexer": "ipython3",
   "version": "3.8.8"
  }
 },
 "nbformat": 4,
 "nbformat_minor": 1
}
